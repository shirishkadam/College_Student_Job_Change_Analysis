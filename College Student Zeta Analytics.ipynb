{
 "cells": [
  {
   "cell_type": "markdown",
   "id": "689f4158-043a-451b-8428-96c709ea7abf",
   "metadata": {
    "editable": true,
    "slideshow": {
     "slide_type": ""
    },
    "tags": []
   },
   "source": [
    "## Predict if an industry experienced student enrolled in a course is interested in a job change"
   ]
  },
  {
   "cell_type": "code",
   "execution_count": 1,
   "id": "dc0bb575-5bbb-490e-8dd8-7731ab1044da",
   "metadata": {},
   "outputs": [],
   "source": [
    "import pandas as pd\n",
    "import numpy as np"
   ]
  },
  {
   "cell_type": "code",
   "execution_count": 2,
   "id": "9c0f3a0a-59a2-423a-8acc-b02f5b772e69",
   "metadata": {
    "scrolled": true
   },
   "outputs": [
    {
     "data": {
      "text/html": [
       "<div>\n",
       "<style scoped>\n",
       "    .dataframe tbody tr th:only-of-type {\n",
       "        vertical-align: middle;\n",
       "    }\n",
       "\n",
       "    .dataframe tbody tr th {\n",
       "        vertical-align: top;\n",
       "    }\n",
       "\n",
       "    .dataframe thead th {\n",
       "        text-align: right;\n",
       "    }\n",
       "</style>\n",
       "<table border=\"1\" class=\"dataframe\">\n",
       "  <thead>\n",
       "    <tr style=\"text-align: right;\">\n",
       "      <th></th>\n",
       "      <th>enrollee_id</th>\n",
       "      <th>city</th>\n",
       "      <th>city_development_index</th>\n",
       "      <th>gender</th>\n",
       "      <th>relevent_experience</th>\n",
       "      <th>enrolled_university</th>\n",
       "      <th>education_level</th>\n",
       "      <th>major_discipline</th>\n",
       "      <th>experience</th>\n",
       "      <th>company_size</th>\n",
       "      <th>company_type</th>\n",
       "      <th>last_new_job</th>\n",
       "      <th>training_hours</th>\n",
       "      <th>target</th>\n",
       "    </tr>\n",
       "  </thead>\n",
       "  <tbody>\n",
       "    <tr>\n",
       "      <th>0</th>\n",
       "      <td>23798</td>\n",
       "      <td>city_149</td>\n",
       "      <td>0.689</td>\n",
       "      <td>Male</td>\n",
       "      <td>Has relevent experience</td>\n",
       "      <td>no_enrollment</td>\n",
       "      <td>Graduate</td>\n",
       "      <td>STEM</td>\n",
       "      <td>3</td>\n",
       "      <td>100-500</td>\n",
       "      <td>Pvt Ltd</td>\n",
       "      <td>1</td>\n",
       "      <td>106</td>\n",
       "      <td>0</td>\n",
       "    </tr>\n",
       "    <tr>\n",
       "      <th>1</th>\n",
       "      <td>29166</td>\n",
       "      <td>city_83</td>\n",
       "      <td>0.923</td>\n",
       "      <td>Male</td>\n",
       "      <td>Has relevent experience</td>\n",
       "      <td>no_enrollment</td>\n",
       "      <td>Graduate</td>\n",
       "      <td>STEM</td>\n",
       "      <td>14</td>\n",
       "      <td>&lt;10</td>\n",
       "      <td>Funded Startup</td>\n",
       "      <td>1</td>\n",
       "      <td>69</td>\n",
       "      <td>0</td>\n",
       "    </tr>\n",
       "    <tr>\n",
       "      <th>2</th>\n",
       "      <td>46</td>\n",
       "      <td>city_16</td>\n",
       "      <td>0.910</td>\n",
       "      <td>NaN</td>\n",
       "      <td>Has relevent experience</td>\n",
       "      <td>no_enrollment</td>\n",
       "      <td>Graduate</td>\n",
       "      <td>STEM</td>\n",
       "      <td>6</td>\n",
       "      <td>50-99</td>\n",
       "      <td>Public Sector</td>\n",
       "      <td>2</td>\n",
       "      <td>4</td>\n",
       "      <td>0</td>\n",
       "    </tr>\n",
       "    <tr>\n",
       "      <th>3</th>\n",
       "      <td>18527</td>\n",
       "      <td>city_64</td>\n",
       "      <td>0.666</td>\n",
       "      <td>Male</td>\n",
       "      <td>Has relevent experience</td>\n",
       "      <td>no_enrollment</td>\n",
       "      <td>Graduate</td>\n",
       "      <td>STEM</td>\n",
       "      <td>14</td>\n",
       "      <td>50-99</td>\n",
       "      <td>Pvt Ltd</td>\n",
       "      <td>1</td>\n",
       "      <td>26</td>\n",
       "      <td>0</td>\n",
       "    </tr>\n",
       "    <tr>\n",
       "      <th>4</th>\n",
       "      <td>21751</td>\n",
       "      <td>city_100</td>\n",
       "      <td>0.887</td>\n",
       "      <td>NaN</td>\n",
       "      <td>No relevent experience</td>\n",
       "      <td>no_enrollment</td>\n",
       "      <td>Masters</td>\n",
       "      <td>STEM</td>\n",
       "      <td>8</td>\n",
       "      <td>NaN</td>\n",
       "      <td>NaN</td>\n",
       "      <td>2</td>\n",
       "      <td>88</td>\n",
       "      <td>1</td>\n",
       "    </tr>\n",
       "  </tbody>\n",
       "</table>\n",
       "</div>"
      ],
      "text/plain": [
       "   enrollee_id      city  city_development_index gender  \\\n",
       "0        23798  city_149                   0.689   Male   \n",
       "1        29166   city_83                   0.923   Male   \n",
       "2           46   city_16                   0.910    NaN   \n",
       "3        18527   city_64                   0.666   Male   \n",
       "4        21751  city_100                   0.887    NaN   \n",
       "\n",
       "       relevent_experience enrolled_university education_level  \\\n",
       "0  Has relevent experience       no_enrollment        Graduate   \n",
       "1  Has relevent experience       no_enrollment        Graduate   \n",
       "2  Has relevent experience       no_enrollment        Graduate   \n",
       "3  Has relevent experience       no_enrollment        Graduate   \n",
       "4   No relevent experience       no_enrollment         Masters   \n",
       "\n",
       "  major_discipline experience company_size    company_type last_new_job  \\\n",
       "0             STEM          3      100-500         Pvt Ltd            1   \n",
       "1             STEM         14          <10  Funded Startup            1   \n",
       "2             STEM          6        50-99   Public Sector            2   \n",
       "3             STEM         14        50-99         Pvt Ltd            1   \n",
       "4             STEM          8          NaN             NaN            2   \n",
       "\n",
       "   training_hours  target  \n",
       "0             106       0  \n",
       "1              69       0  \n",
       "2               4       0  \n",
       "3              26       0  \n",
       "4              88       1  "
      ]
     },
     "execution_count": 2,
     "metadata": {},
     "output_type": "execute_result"
    }
   ],
   "source": [
    "df = pd.read_csv(\"Zeta_Analytics Dataset.csv\")\n",
    "df.head()"
   ]
  },
  {
   "cell_type": "code",
   "execution_count": 3,
   "id": "82226b4e-2114-4596-aa1a-bdb00358f2b3",
   "metadata": {},
   "outputs": [
    {
     "name": "stdout",
     "output_type": "stream",
     "text": [
      "<class 'pandas.core.frame.DataFrame'>\n",
      "RangeIndex: 18359 entries, 0 to 18358\n",
      "Data columns (total 14 columns):\n",
      " #   Column                  Non-Null Count  Dtype  \n",
      "---  ------                  --------------  -----  \n",
      " 0   enrollee_id             18359 non-null  int64  \n",
      " 1   city                    18359 non-null  object \n",
      " 2   city_development_index  18359 non-null  float64\n",
      " 3   gender                  14261 non-null  object \n",
      " 4   relevent_experience     18359 non-null  object \n",
      " 5   enrolled_university     18017 non-null  object \n",
      " 6   education_level         17902 non-null  object \n",
      " 7   major_discipline        15521 non-null  object \n",
      " 8   experience              18300 non-null  object \n",
      " 9   company_size            13580 non-null  object \n",
      " 10  company_type            13320 non-null  object \n",
      " 11  last_new_job            17992 non-null  object \n",
      " 12  training_hours          18359 non-null  int64  \n",
      " 13  target                  18359 non-null  int64  \n",
      "dtypes: float64(1), int64(3), object(10)\n",
      "memory usage: 2.0+ MB\n"
     ]
    }
   ],
   "source": [
    "df.info()"
   ]
  },
  {
   "cell_type": "raw",
   "id": "b9f26d1d-4cd4-4d4a-91a9-808185ea2434",
   "metadata": {},
   "source": [
    "We have total 18359 unique ID, lots of missing data in df, Some numeric columns are shown as categorical"
   ]
  },
  {
   "cell_type": "code",
   "execution_count": null,
   "id": "258b7f79-eeea-46a8-a95c-a70563c55513",
   "metadata": {},
   "outputs": [],
   "source": []
  },
  {
   "cell_type": "markdown",
   "id": "8e4b6bd9-e33b-4d2e-8998-eb6ff77f17c3",
   "metadata": {},
   "source": [
    "## Data Preprocessing"
   ]
  },
  {
   "cell_type": "code",
   "execution_count": 4,
   "id": "d08461dc-d050-4f72-9369-166f3708cf82",
   "metadata": {},
   "outputs": [
    {
     "name": "stdout",
     "output_type": "stream",
     "text": [
      "COlumns with missing values ['gender', 'enrolled_university', 'education_level', 'major_discipline', 'experience', 'company_size', 'company_type', 'last_new_job']\n",
      "Number of Columns with missing values 8\n"
     ]
    }
   ],
   "source": [
    "# CHeck columns with missing values\n",
    "cols = df.columns[df.isna().any()].tolist()\n",
    "\n",
    "# Print number of columns and their names which has missing values\n",
    "print(\"COlumns with missing values\",cols)\n",
    "print(\"Number of Columns with missing values\",len(cols))"
   ]
  },
  {
   "cell_type": "code",
   "execution_count": 5,
   "id": "a7ea104d-ca7a-4df2-b48d-27a1adc476f0",
   "metadata": {},
   "outputs": [
    {
     "data": {
      "text/html": [
       "<div>\n",
       "<style scoped>\n",
       "    .dataframe tbody tr th:only-of-type {\n",
       "        vertical-align: middle;\n",
       "    }\n",
       "\n",
       "    .dataframe tbody tr th {\n",
       "        vertical-align: top;\n",
       "    }\n",
       "\n",
       "    .dataframe thead th {\n",
       "        text-align: right;\n",
       "    }\n",
       "</style>\n",
       "<table border=\"1\" class=\"dataframe\">\n",
       "  <thead>\n",
       "    <tr style=\"text-align: right;\">\n",
       "      <th></th>\n",
       "      <th>enrollee_id</th>\n",
       "      <th>city</th>\n",
       "      <th>city_development_index</th>\n",
       "      <th>gender</th>\n",
       "      <th>relevent_experience</th>\n",
       "      <th>enrolled_university</th>\n",
       "      <th>education_level</th>\n",
       "      <th>major_discipline</th>\n",
       "      <th>experience</th>\n",
       "      <th>company_size</th>\n",
       "      <th>company_type</th>\n",
       "      <th>last_new_job</th>\n",
       "      <th>training_hours</th>\n",
       "      <th>target</th>\n",
       "    </tr>\n",
       "  </thead>\n",
       "  <tbody>\n",
       "    <tr>\n",
       "      <th>0</th>\n",
       "      <td>23798</td>\n",
       "      <td>city_149</td>\n",
       "      <td>0.689</td>\n",
       "      <td>Male</td>\n",
       "      <td>Has relevent experience</td>\n",
       "      <td>no_enrollment</td>\n",
       "      <td>Graduate</td>\n",
       "      <td>STEM</td>\n",
       "      <td>3</td>\n",
       "      <td>100-500</td>\n",
       "      <td>Pvt Ltd</td>\n",
       "      <td>1</td>\n",
       "      <td>106</td>\n",
       "      <td>0</td>\n",
       "    </tr>\n",
       "    <tr>\n",
       "      <th>1</th>\n",
       "      <td>29166</td>\n",
       "      <td>city_83</td>\n",
       "      <td>0.923</td>\n",
       "      <td>Male</td>\n",
       "      <td>Has relevent experience</td>\n",
       "      <td>no_enrollment</td>\n",
       "      <td>Graduate</td>\n",
       "      <td>STEM</td>\n",
       "      <td>14</td>\n",
       "      <td>&lt;10</td>\n",
       "      <td>Funded Startup</td>\n",
       "      <td>1</td>\n",
       "      <td>69</td>\n",
       "      <td>0</td>\n",
       "    </tr>\n",
       "  </tbody>\n",
       "</table>\n",
       "</div>"
      ],
      "text/plain": [
       "   enrollee_id      city  city_development_index gender  \\\n",
       "0        23798  city_149                   0.689   Male   \n",
       "1        29166   city_83                   0.923   Male   \n",
       "\n",
       "       relevent_experience enrolled_university education_level  \\\n",
       "0  Has relevent experience       no_enrollment        Graduate   \n",
       "1  Has relevent experience       no_enrollment        Graduate   \n",
       "\n",
       "  major_discipline experience company_size    company_type last_new_job  \\\n",
       "0             STEM          3      100-500         Pvt Ltd            1   \n",
       "1             STEM         14          <10  Funded Startup            1   \n",
       "\n",
       "   training_hours  target  \n",
       "0             106       0  \n",
       "1              69       0  "
      ]
     },
     "execution_count": 5,
     "metadata": {},
     "output_type": "execute_result"
    }
   ],
   "source": [
    "df.head(2)"
   ]
  },
  {
   "cell_type": "code",
   "execution_count": 6,
   "id": "f509190c-6313-4fcd-a4c6-2662356b93d6",
   "metadata": {},
   "outputs": [],
   "source": [
    "# Select Categorical columns names with missing data\n",
    "cat_miss_cols = ['gender', 'enrolled_university', 'education_level', 'major_discipline', 'company_size', 'company_type']"
   ]
  },
  {
   "cell_type": "code",
   "execution_count": 7,
   "id": "7de03ecf-3658-487b-84f3-5def5db5012e",
   "metadata": {},
   "outputs": [
    {
     "name": "stdout",
     "output_type": "stream",
     "text": [
      "['Male' nan 'Female' 'Other']\n",
      "['no_enrollment' 'Full time course' 'Part time course' nan]\n",
      "['Graduate' 'Masters' 'High School' 'Phd' nan 'Primary School']\n",
      "['STEM' 'Other' 'No Major' nan 'Business Degree' 'Arts' 'Humanities']\n",
      "['100-500' '<10' '50-99' nan '5000-9999' '10000+' '1000-4999' '500-999'\n",
      " '10/49']\n",
      "['Pvt Ltd' 'Funded Startup' 'Public Sector' nan 'Early Stage Startup'\n",
      " 'NGO' 'Other']\n"
     ]
    }
   ],
   "source": [
    "# check unique records in each categorical columns with missing values\n",
    "for col in cat_miss_cols:\n",
    "    print(df[col].unique())"
   ]
  },
  {
   "cell_type": "code",
   "execution_count": 8,
   "id": "95ffeb64-e66a-4fb1-b620-95f7105470c6",
   "metadata": {},
   "outputs": [],
   "source": [
    "# Fill missing values of categorical columns with 'NA'\n",
    "df[cat_miss_cols] = df[cat_miss_cols].fillna('NA')"
   ]
  },
  {
   "cell_type": "code",
   "execution_count": 9,
   "id": "99913e45-4813-4a05-b9b3-c51da99a2fc6",
   "metadata": {},
   "outputs": [
    {
     "name": "stdout",
     "output_type": "stream",
     "text": [
      "COlumns with missing values ['experience', 'last_new_job']\n",
      "Number of Columns with missing values 2\n"
     ]
    }
   ],
   "source": [
    "# Again check columns with missing values\n",
    "cols = df.columns[df.isna().any()].tolist()\n",
    "# Print number of columns and their names which has missing values\n",
    "print(\"COlumns with missing values\",cols)\n",
    "print(\"Number of Columns with missing values\",len(cols))"
   ]
  },
  {
   "cell_type": "raw",
   "id": "92167441-398c-4e95-8f78-6ee7306bd3d4",
   "metadata": {},
   "source": [
    "'experience', 'last_new_job' should Numerical columns so we didnt included them in cat_miss_cols."
   ]
  },
  {
   "cell_type": "code",
   "execution_count": 10,
   "id": "a810052a-c8ef-48f1-9d7d-cfeda2265968",
   "metadata": {},
   "outputs": [
    {
     "name": "stdout",
     "output_type": "stream",
     "text": [
      "['3' '14' '6' '8' '>20' '4' '9' '15' '10' '1' '5' '16' '11' '12' '7' '2'\n",
      " '13' '<1' '19' '18' '17' nan '20']\n",
      "['1' '2' '3' '>4' 'never' '4' nan]\n"
     ]
    }
   ],
   "source": [
    "# Check unique values in 'experience', 'last_new_job' columns\n",
    "num_miss_cols = ['experience', 'last_new_job']\n",
    "for col in num_miss_cols:\n",
    "    print(df[col].unique())"
   ]
  },
  {
   "cell_type": "raw",
   "id": "4ae8a77f-fec3-48b2-bd2f-b53f98b2f340",
   "metadata": {},
   "source": [
    "'experience' column has '<' symbol, so we need to replace it.\n",
    "'last_new_job' has '>' symbol and 'never' string, so we have to remove symbol and replace 'never' with 0"
   ]
  },
  {
   "cell_type": "markdown",
   "id": "f04baa67-dd07-471e-8e3d-b6e3a459d180",
   "metadata": {},
   "source": [
    "#### Replace text data with numbers in some of the columns which have numerical values"
   ]
  },
  {
   "cell_type": "code",
   "execution_count": 11,
   "id": "dab0c534-2780-4c7c-8824-273e1168079d",
   "metadata": {},
   "outputs": [],
   "source": [
    "for col in num_miss_cols:\n",
    "    # replace '<','>' with empty string\n",
    "    df[col] = df[col].astype(str).replace('>', '').replace('<', '')\n",
    "    # replace 'never' with '0'\n",
    "    df[col] = df[col].astype(str).replace('never','0')"
   ]
  },
  {
   "cell_type": "code",
   "execution_count": 12,
   "id": "d946c72d-c713-4461-8a60-de6ac266e2c2",
   "metadata": {},
   "outputs": [
    {
     "name": "stdout",
     "output_type": "stream",
     "text": [
      "['3' '14' '6' '8' '>20' '4' '9' '15' '10' '1' '5' '16' '11' '12' '7' '2'\n",
      " '13' '<1' '19' '18' '17' 'nan' '20']\n",
      "['1' '2' '3' '>4' '0' '4' 'nan']\n"
     ]
    }
   ],
   "source": [
    "# now again check unique values of 'experience', 'last_new_job' columns\n",
    "num_miss_cols = ['experience', 'last_new_job']\n",
    "for col in num_miss_cols:\n",
    "    print(df[col].unique())"
   ]
  },
  {
   "cell_type": "code",
   "execution_count": null,
   "id": "1ce509a6-15ea-4920-a993-2330984aaf69",
   "metadata": {},
   "outputs": [],
   "source": []
  },
  {
   "cell_type": "raw",
   "id": "b17cffa5-e11a-45b4-b5a0-7d2f6e8b2b26",
   "metadata": {},
   "source": [
    "Our replacing symbols code not working, Try different mothod"
   ]
  },
  {
   "cell_type": "code",
   "execution_count": 13,
   "id": "cc096ef6-c8c6-49a7-a27a-44a44506cd7d",
   "metadata": {},
   "outputs": [],
   "source": [
    "import re\n",
    "\n",
    "for col in num_miss_cols:\n",
    "    # Replace '<' and '>' with empty string using regular expressions\n",
    "    df[col] = df[col].astype(str).apply(lambda x: re.sub(r'[<>]', '', x)) #function from the re module to substitute all occurrences of '<' and '>' with an empty string within each string value x\n"
   ]
  },
  {
   "cell_type": "code",
   "execution_count": 14,
   "id": "0a4a3f60-4547-4faa-b3d9-9a6cbf50676b",
   "metadata": {},
   "outputs": [
    {
     "name": "stdout",
     "output_type": "stream",
     "text": [
      "['3' '14' '6' '8' '20' '4' '9' '15' '10' '1' '5' '16' '11' '12' '7' '2'\n",
      " '13' '19' '18' '17' 'nan']\n",
      "['1' '2' '3' '4' '0' 'nan']\n"
     ]
    }
   ],
   "source": [
    "# now again check unique values of 'experience', 'last_new_job' columns\n",
    "num_miss_cols = ['experience', 'last_new_job']\n",
    "for col in num_miss_cols:\n",
    "    print(df[col].unique())"
   ]
  },
  {
   "cell_type": "raw",
   "id": "29e93f50-cb1e-4341-9fb6-0a0fc245165e",
   "metadata": {},
   "source": [
    "We successfully replaced symbols. "
   ]
  },
  {
   "cell_type": "code",
   "execution_count": 15,
   "id": "bb2a2662-909b-497e-960e-9e5d85b86568",
   "metadata": {},
   "outputs": [],
   "source": [
    "# Convert Categorical columns 'experience', 'last_new_job' into Numerical\n",
    "# Also replace 'nan' with proper 'NaN'\n",
    "for col in num_miss_cols:\n",
    "    df[col] = pd.to_numeric(df[col].replace('nan', np.NaN))"
   ]
  },
  {
   "cell_type": "raw",
   "id": "26e3b2b2-39b0-44b2-b2fc-facd92f43422",
   "metadata": {},
   "source": [
    "For these 2 columns experience and last job, the idea is to fill them using a median value since they are key features and replacing them with zeroes may impact the model performance. We will do this with median from train data, after splitting the dataset, to prevent data leakage.\n",
    "\n",
    "To mitigate data leakage, it's crucial to:\n",
    "1.Strictly separate training and test datasets.\n",
    "2.Ensure that preprocessing steps and feature engineering are performed solely on the training data.\n",
    "3.Avoid using information from the test set during model development, tuning, or evaluation."
   ]
  },
  {
   "cell_type": "code",
   "execution_count": null,
   "id": "cb321716-903f-4e67-869f-4e093ed8c1f1",
   "metadata": {},
   "outputs": [],
   "source": []
  },
  {
   "cell_type": "markdown",
   "id": "99beb19a-cf8a-451f-9420-f7d84d28f0bf",
   "metadata": {},
   "source": [
    "### Now we need to encode categorical columns into numerical for training process"
   ]
  },
  {
   "cell_type": "code",
   "execution_count": 16,
   "id": "d8939dda-9867-44bb-8820-65df1dda12c6",
   "metadata": {},
   "outputs": [
    {
     "data": {
      "text/plain": [
       "Index(['city', 'gender', 'relevent_experience', 'enrolled_university',\n",
       "       'education_level', 'major_discipline', 'company_size', 'company_type'],\n",
       "      dtype='object')"
      ]
     },
     "execution_count": 16,
     "metadata": {},
     "output_type": "execute_result"
    }
   ],
   "source": [
    "# Select categorical columns\n",
    "cat_cols = df.select_dtypes(include='O').columns\n",
    "cat_cols"
   ]
  },
  {
   "cell_type": "code",
   "execution_count": 17,
   "id": "dd19d82a-73dc-478e-8de5-adf50d237979",
   "metadata": {},
   "outputs": [
    {
     "name": "stdout",
     "output_type": "stream",
     "text": [
      "city 123\n",
      "gender 4\n",
      "relevent_experience 2\n",
      "enrolled_university 4\n",
      "education_level 6\n",
      "major_discipline 7\n",
      "company_size 9\n",
      "company_type 7\n"
     ]
    }
   ],
   "source": [
    "# Find number of nnumber of unique values of each categorical column\n",
    "for col in cat_cols:\n",
    "    print(col,df[col].nunique())"
   ]
  },
  {
   "cell_type": "code",
   "execution_count": 18,
   "id": "2917fbda-eb5a-422d-9032-1c76e37e68d0",
   "metadata": {},
   "outputs": [],
   "source": [
    "# Remove 'enrollee_id' and 'city' columns because too many unique values\n",
    "df.drop(['enrollee_id','city'], axis=1, inplace=True)"
   ]
  },
  {
   "cell_type": "code",
   "execution_count": 19,
   "id": "00694ae4-90ee-4169-a723-c64f3a4df7e3",
   "metadata": {},
   "outputs": [
    {
     "name": "stdout",
     "output_type": "stream",
     "text": [
      "gender ['Male' 'NA' 'Female' 'Other']\n",
      "relevent_experience ['Has relevent experience' 'No relevent experience']\n",
      "enrolled_university ['no_enrollment' 'Full time course' 'Part time course' 'NA']\n",
      "education_level ['Graduate' 'Masters' 'High School' 'Phd' 'NA' 'Primary School']\n",
      "major_discipline ['STEM' 'Other' 'No Major' 'NA' 'Business Degree' 'Arts' 'Humanities']\n",
      "company_size ['100-500' '<10' '50-99' 'NA' '5000-9999' '10000+' '1000-4999' '500-999'\n",
      " '10/49']\n",
      "company_type ['Pvt Ltd' 'Funded Startup' 'Public Sector' 'NA' 'Early Stage Startup'\n",
      " 'NGO' 'Other']\n"
     ]
    }
   ],
   "source": [
    "# get new categorical columns after dropping above columns\n",
    "cat_cols = df.select_dtypes(include='O').columns\n",
    "\n",
    "# Find number of unique values of each categorical column\n",
    "for col in cat_cols:\n",
    "    print(col,df[col].unique())"
   ]
  },
  {
   "cell_type": "raw",
   "id": "a8f6d83f-cb01-4b59-a9c1-d42b6f4b58da",
   "metadata": {},
   "source": [
    "1. 'education_level' and 'company_size' are ordinal data columns ie. they have specific order so we need to encode them using OrdinalEncoder.\n",
    "An ordinal encoder is a technique used to convert categorical data into integer codes, ranging from 0 to n-1, where n is the number of unique categories for the feature. Unlike one-hot encoding, which creates a new binary column for each category, ordinal encoding maintains a single column and assigns a unique integer to each category in an order.\n",
    "\n",
    "2. We can use OneHotEncoding for other"
   ]
  },
  {
   "cell_type": "code",
   "execution_count": 20,
   "id": "bb262708-8c21-4fce-994a-d3b050af7dc1",
   "metadata": {},
   "outputs": [
    {
     "data": {
      "text/plain": [
       "[array(['Primary School', 'High School', 'NA', 'Graduate', 'Masters',\n",
       "        'Phd'], dtype=object)]"
      ]
     },
     "execution_count": 20,
     "metadata": {},
     "output_type": "execute_result"
    }
   ],
   "source": [
    "from sklearn.preprocessing import OrdinalEncoder\n",
    "\n",
    "# Ordinal encoder for 'education_level'\n",
    "oe1 = OrdinalEncoder(categories=[['Primary School', 'High School', 'NA','Graduate', 'Masters', 'Phd']])\n",
    "df[['education_level']] = oe1.fit_transform(df[['education_level']])\n",
    "\n",
    "oe1.categories_"
   ]
  },
  {
   "cell_type": "code",
   "execution_count": 21,
   "id": "4a1d604f-2eac-414c-a0d6-fe5158350c11",
   "metadata": {},
   "outputs": [
    {
     "data": {
      "text/plain": [
       "[array(['<10', '10/49', '50-99', '100-500', '500-999', 'NA', '1000-4999',\n",
       "        '5000-9999', '10000+'], dtype=object)]"
      ]
     },
     "execution_count": 21,
     "metadata": {},
     "output_type": "execute_result"
    }
   ],
   "source": [
    "# Ordinal encoder for 'comapny size'\n",
    "oe2 = OrdinalEncoder(categories=[[ '<10', '10/49', '50-99', '100-500', '500-999', 'NA', '1000-4999', '5000-9999', '10000+']])\n",
    "df[['company_size']] = oe2.fit_transform(df[['company_size']])\n",
    "oe2.categories_"
   ]
  },
  {
   "cell_type": "code",
   "execution_count": null,
   "id": "4211824f-624b-4752-b700-38bb55facfb5",
   "metadata": {},
   "outputs": [],
   "source": []
  },
  {
   "cell_type": "code",
   "execution_count": 22,
   "id": "b1054d59-b148-40d7-b951-ee29951e583e",
   "metadata": {},
   "outputs": [
    {
     "data": {
      "text/html": [
       "<div>\n",
       "<style scoped>\n",
       "    .dataframe tbody tr th:only-of-type {\n",
       "        vertical-align: middle;\n",
       "    }\n",
       "\n",
       "    .dataframe tbody tr th {\n",
       "        vertical-align: top;\n",
       "    }\n",
       "\n",
       "    .dataframe thead th {\n",
       "        text-align: right;\n",
       "    }\n",
       "</style>\n",
       "<table border=\"1\" class=\"dataframe\">\n",
       "  <thead>\n",
       "    <tr style=\"text-align: right;\">\n",
       "      <th></th>\n",
       "      <th>city_development_index</th>\n",
       "      <th>education_level</th>\n",
       "      <th>experience</th>\n",
       "      <th>company_size</th>\n",
       "      <th>last_new_job</th>\n",
       "      <th>training_hours</th>\n",
       "      <th>target</th>\n",
       "      <th>gender_Male</th>\n",
       "      <th>gender_NA</th>\n",
       "      <th>gender_Other</th>\n",
       "      <th>...</th>\n",
       "      <th>major_discipline_NA</th>\n",
       "      <th>major_discipline_No Major</th>\n",
       "      <th>major_discipline_Other</th>\n",
       "      <th>major_discipline_STEM</th>\n",
       "      <th>company_type_Funded Startup</th>\n",
       "      <th>company_type_NA</th>\n",
       "      <th>company_type_NGO</th>\n",
       "      <th>company_type_Other</th>\n",
       "      <th>company_type_Public Sector</th>\n",
       "      <th>company_type_Pvt Ltd</th>\n",
       "    </tr>\n",
       "  </thead>\n",
       "  <tbody>\n",
       "    <tr>\n",
       "      <th>0</th>\n",
       "      <td>0.689</td>\n",
       "      <td>3.0</td>\n",
       "      <td>3.0</td>\n",
       "      <td>3.0</td>\n",
       "      <td>1.0</td>\n",
       "      <td>106</td>\n",
       "      <td>0</td>\n",
       "      <td>True</td>\n",
       "      <td>False</td>\n",
       "      <td>False</td>\n",
       "      <td>...</td>\n",
       "      <td>False</td>\n",
       "      <td>False</td>\n",
       "      <td>False</td>\n",
       "      <td>True</td>\n",
       "      <td>False</td>\n",
       "      <td>False</td>\n",
       "      <td>False</td>\n",
       "      <td>False</td>\n",
       "      <td>False</td>\n",
       "      <td>True</td>\n",
       "    </tr>\n",
       "    <tr>\n",
       "      <th>1</th>\n",
       "      <td>0.923</td>\n",
       "      <td>3.0</td>\n",
       "      <td>14.0</td>\n",
       "      <td>0.0</td>\n",
       "      <td>1.0</td>\n",
       "      <td>69</td>\n",
       "      <td>0</td>\n",
       "      <td>True</td>\n",
       "      <td>False</td>\n",
       "      <td>False</td>\n",
       "      <td>...</td>\n",
       "      <td>False</td>\n",
       "      <td>False</td>\n",
       "      <td>False</td>\n",
       "      <td>True</td>\n",
       "      <td>True</td>\n",
       "      <td>False</td>\n",
       "      <td>False</td>\n",
       "      <td>False</td>\n",
       "      <td>False</td>\n",
       "      <td>False</td>\n",
       "    </tr>\n",
       "    <tr>\n",
       "      <th>2</th>\n",
       "      <td>0.910</td>\n",
       "      <td>3.0</td>\n",
       "      <td>6.0</td>\n",
       "      <td>2.0</td>\n",
       "      <td>2.0</td>\n",
       "      <td>4</td>\n",
       "      <td>0</td>\n",
       "      <td>False</td>\n",
       "      <td>True</td>\n",
       "      <td>False</td>\n",
       "      <td>...</td>\n",
       "      <td>False</td>\n",
       "      <td>False</td>\n",
       "      <td>False</td>\n",
       "      <td>True</td>\n",
       "      <td>False</td>\n",
       "      <td>False</td>\n",
       "      <td>False</td>\n",
       "      <td>False</td>\n",
       "      <td>True</td>\n",
       "      <td>False</td>\n",
       "    </tr>\n",
       "    <tr>\n",
       "      <th>3</th>\n",
       "      <td>0.666</td>\n",
       "      <td>3.0</td>\n",
       "      <td>14.0</td>\n",
       "      <td>2.0</td>\n",
       "      <td>1.0</td>\n",
       "      <td>26</td>\n",
       "      <td>0</td>\n",
       "      <td>True</td>\n",
       "      <td>False</td>\n",
       "      <td>False</td>\n",
       "      <td>...</td>\n",
       "      <td>False</td>\n",
       "      <td>False</td>\n",
       "      <td>False</td>\n",
       "      <td>True</td>\n",
       "      <td>False</td>\n",
       "      <td>False</td>\n",
       "      <td>False</td>\n",
       "      <td>False</td>\n",
       "      <td>False</td>\n",
       "      <td>True</td>\n",
       "    </tr>\n",
       "    <tr>\n",
       "      <th>4</th>\n",
       "      <td>0.887</td>\n",
       "      <td>4.0</td>\n",
       "      <td>8.0</td>\n",
       "      <td>5.0</td>\n",
       "      <td>2.0</td>\n",
       "      <td>88</td>\n",
       "      <td>1</td>\n",
       "      <td>False</td>\n",
       "      <td>True</td>\n",
       "      <td>False</td>\n",
       "      <td>...</td>\n",
       "      <td>False</td>\n",
       "      <td>False</td>\n",
       "      <td>False</td>\n",
       "      <td>True</td>\n",
       "      <td>False</td>\n",
       "      <td>True</td>\n",
       "      <td>False</td>\n",
       "      <td>False</td>\n",
       "      <td>False</td>\n",
       "      <td>False</td>\n",
       "    </tr>\n",
       "  </tbody>\n",
       "</table>\n",
       "<p>5 rows × 26 columns</p>\n",
       "</div>"
      ],
      "text/plain": [
       "   city_development_index  education_level  experience  company_size  \\\n",
       "0                   0.689              3.0         3.0           3.0   \n",
       "1                   0.923              3.0        14.0           0.0   \n",
       "2                   0.910              3.0         6.0           2.0   \n",
       "3                   0.666              3.0        14.0           2.0   \n",
       "4                   0.887              4.0         8.0           5.0   \n",
       "\n",
       "   last_new_job  training_hours  target  gender_Male  gender_NA  gender_Other  \\\n",
       "0           1.0             106       0         True      False         False   \n",
       "1           1.0              69       0         True      False         False   \n",
       "2           2.0               4       0        False       True         False   \n",
       "3           1.0              26       0         True      False         False   \n",
       "4           2.0              88       1        False       True         False   \n",
       "\n",
       "   ...  major_discipline_NA  major_discipline_No Major  \\\n",
       "0  ...                False                      False   \n",
       "1  ...                False                      False   \n",
       "2  ...                False                      False   \n",
       "3  ...                False                      False   \n",
       "4  ...                False                      False   \n",
       "\n",
       "   major_discipline_Other  major_discipline_STEM  company_type_Funded Startup  \\\n",
       "0                   False                   True                        False   \n",
       "1                   False                   True                         True   \n",
       "2                   False                   True                        False   \n",
       "3                   False                   True                        False   \n",
       "4                   False                   True                        False   \n",
       "\n",
       "   company_type_NA  company_type_NGO  company_type_Other  \\\n",
       "0            False             False               False   \n",
       "1            False             False               False   \n",
       "2            False             False               False   \n",
       "3            False             False               False   \n",
       "4             True             False               False   \n",
       "\n",
       "   company_type_Public Sector  company_type_Pvt Ltd  \n",
       "0                       False                  True  \n",
       "1                       False                 False  \n",
       "2                        True                 False  \n",
       "3                       False                  True  \n",
       "4                       False                 False  \n",
       "\n",
       "[5 rows x 26 columns]"
      ]
     },
     "execution_count": 22,
     "metadata": {},
     "output_type": "execute_result"
    }
   ],
   "source": [
    "# Now Convert all df using OneHotEncoding\n",
    "df = pd.get_dummies(df, drop_first=True)\n",
    "df.head()"
   ]
  },
  {
   "cell_type": "raw",
   "id": "57b4a2cc-dbfb-4902-ad10-3443119fca80",
   "metadata": {},
   "source": [
    "*** End of Preprocessing ***"
   ]
  },
  {
   "cell_type": "code",
   "execution_count": null,
   "id": "359b5e6c-df5f-43c8-bfd3-12e8f22b62c5",
   "metadata": {},
   "outputs": [],
   "source": []
  },
  {
   "cell_type": "code",
   "execution_count": null,
   "id": "105b2c5c-0df8-4d8f-8f5a-e6de9b444b80",
   "metadata": {},
   "outputs": [],
   "source": []
  },
  {
   "cell_type": "markdown",
   "id": "27bcd086-e3a7-4a1e-87ea-67221282403d",
   "metadata": {},
   "source": [
    "## Split dataset into train and test set"
   ]
  },
  {
   "cell_type": "code",
   "execution_count": 23,
   "id": "32519338-7c10-46a2-8bb0-861a432751c7",
   "metadata": {},
   "outputs": [],
   "source": [
    "from sklearn.model_selection import train_test_split\n",
    "\n",
    "# Seperate Dependent and Independent features\n",
    "X = df.drop('target', axis=1)\n",
    "y = df['target']\n",
    "\n",
    "train_x, test_x, train_y, test_y = train_test_split(X, y, test_size=0.2, random_state=100)"
   ]
  },
  {
   "cell_type": "code",
   "execution_count": null,
   "id": "4a121692-50e2-43f6-9d36-ee13304fee33",
   "metadata": {},
   "outputs": [],
   "source": []
  },
  {
   "cell_type": "raw",
   "id": "3bbda578-405c-492c-9d0e-d3a67bbbc678",
   "metadata": {},
   "source": [
    "Now we can replace missing values from Numerical Columns and then Normalize data"
   ]
  },
  {
   "cell_type": "code",
   "execution_count": 24,
   "id": "f0487480-6314-448d-b0c7-eff74f91f054",
   "metadata": {
    "scrolled": true
   },
   "outputs": [
    {
     "name": "stdout",
     "output_type": "stream",
     "text": [
      "Median for Experience column :  9.0\n",
      "Median for last_new_job column :  1.0\n"
     ]
    }
   ],
   "source": [
    "# replace missing values of 'experience' column with median\n",
    "exp_median = train_x['experience'].median()\n",
    "print(\"Median for Experience column : \",exp_median)\n",
    "train_x['experience'].fillna(exp_median, inplace=True)\n",
    "test_x['experience'].fillna(exp_median, inplace=True)\n",
    "\n",
    "# replace missing values of 'last_new_job' column with median\n",
    "lnj_median = train_x['last_new_job'].median()\n",
    "print(\"Median for last_new_job column : \", lnj_median)\n",
    "train_x['last_new_job'].fillna(lnj_median, inplace=True)\n",
    "test_x['last_new_job'].fillna(lnj_median, inplace=True)"
   ]
  },
  {
   "cell_type": "code",
   "execution_count": 25,
   "id": "f07ebd90-404a-4db0-8a7c-674ead830610",
   "metadata": {},
   "outputs": [],
   "source": [
    "# Normalize data using MinMaxScaler\n",
    "from sklearn.preprocessing import MinMaxScaler\n",
    "\n",
    "scaler = MinMaxScaler()\n",
    "\n",
    "train_x = scaler.fit_transform(train_x) # The fit_transform() method is used on the training data (X_train) to fit the scaler to the training data and transform it simultaneously. This ensures that both fitting and transformation are performed using the same scale.\n",
    "\n",
    "test_x = scaler.transform(test_x)       # The transform() method is then used on the test data (X_test) to transform it based on the scaling parameters learned from the training data. This ensures that the test data is scaled using the same scale as the training data, maintaining consistency.\n",
    "\n",
    "train_y = train_y.values\n",
    "test_y  = test_y.values\n",
    "# The target variables (output labels) in the training and test datasets (y_train and y_test) are converted from Pandas Series objects to NumPy arrays using the values attribute. This is a common practice when working with machine learning libraries like scikit-learn, which typically expect input data to be in NumPy array format."
   ]
  },
  {
   "cell_type": "raw",
   "id": "cd69793f-9927-4894-97bb-3b4a6323bb7a",
   "metadata": {},
   "source": [
    "Note : \n",
    "1. Features (X_train and X_test) need to be scaled to ensure that all features have the same scale, which can help improve the convergence speed and performance of certain machine learning algorithms.\n",
    "\n",
    "2. Target variables (y_train and y_test) typically don't require scaling because they represent the output labels or response variables, and scaling them may not be meaningful or necessary for most machine learning tasks."
   ]
  },
  {
   "cell_type": "code",
   "execution_count": null,
   "id": "3aae6959-4ebf-42be-89ef-1ad05b52917a",
   "metadata": {},
   "outputs": [],
   "source": []
  },
  {
   "cell_type": "code",
   "execution_count": 26,
   "id": "31bd6d80-6715-453e-bef1-ca32ba5d377d",
   "metadata": {
    "editable": true,
    "slideshow": {
     "slide_type": ""
    },
    "tags": []
   },
   "outputs": [
    {
     "data": {
      "text/plain": [
       "target\n",
       "0    15934\n",
       "1     2425\n",
       "Name: count, dtype: int64"
      ]
     },
     "execution_count": 26,
     "metadata": {},
     "output_type": "execute_result"
    }
   ],
   "source": [
    "# view the data distribution of target. This is in order to understand which evaluation metric to choose. \n",
    "df.target.value_counts()"
   ]
  },
  {
   "cell_type": "raw",
   "id": "b10deec7-33eb-490c-a1b1-0b518a636e8d",
   "metadata": {},
   "source": [
    "We can use ROC_AUC score as data is imbalanced."
   ]
  },
  {
   "cell_type": "code",
   "execution_count": null,
   "id": "e8ce49f1-3a5d-40b9-a278-4533d343df39",
   "metadata": {},
   "outputs": [],
   "source": []
  },
  {
   "cell_type": "markdown",
   "id": "c2c7c60e-fb23-44ea-bf22-ef04c4e6627a",
   "metadata": {
    "editable": true,
    "slideshow": {
     "slide_type": ""
    },
    "tags": []
   },
   "source": [
    "# Model Building"
   ]
  },
  {
   "cell_type": "code",
   "execution_count": 27,
   "id": "b36894a6-5a4f-4716-81a3-72e46ad94033",
   "metadata": {
    "editable": true,
    "slideshow": {
     "slide_type": ""
    },
    "tags": []
   },
   "outputs": [],
   "source": [
    "# import lib\n",
    "import torch\n",
    "import torch.nn as nn\n",
    "import torch.nn.functional as F\n",
    "import torch.optim as optim\n",
    "from torch.utils.data import DataLoader, TensorDataset, Dataset\n",
    "\n",
    "from sklearn.metrics import roc_auc_score\n",
    "import matplotlib.pyplot as plt"
   ]
  },
  {
   "cell_type": "markdown",
   "id": "03b32006-3081-4351-bea4-53ce6c4ca59a",
   "metadata": {},
   "source": [
    "### Define Function to Train NN model and evaluate it"
   ]
  },
  {
   "cell_type": "code",
   "execution_count": 28,
   "id": "0cd4adf1-de6e-4d3e-a694-19ac8f6c699f",
   "metadata": {
    "editable": true,
    "slideshow": {
     "slide_type": ""
    },
    "tags": []
   },
   "outputs": [],
   "source": [
    "# Encapsulate out dataset as a class, which inherits from the torch Dataset class\n",
    "class JobChangeDataset(Dataset):\n",
    "    def __init__(self, features, labels): # The constructor method initializes the dataset with features and labels. \n",
    "        self.features = features  # features: The input features of the dataset. \n",
    "        self.labels = labels      # labels: The corresponding labels for the features.\n",
    "\n",
    "    def __len__(self):            # This method returns the total number of samples in the dataset.\n",
    "        return len(self.features)\n",
    "\n",
    "    def __getitem__(self, idx):\n",
    "        return self.features[idx], self.labels[idx]"
   ]
  },
  {
   "cell_type": "code",
   "execution_count": 29,
   "id": "0b61d28e-fd2a-4107-8c03-b64da3dd63c6",
   "metadata": {
    "editable": true,
    "slideshow": {
     "slide_type": ""
    },
    "tags": []
   },
   "outputs": [
    {
     "data": {
      "text/plain": [
       "\"\\nSo now we've designed a fully connected dense neural network for our binary classification task. It consists of 7 layers with ReLU activation functions applied to the first 6 layers and a sigmoid activation function applied to the output of the fourth layer to ensure the output is in the range [0, 1].\\n\""
      ]
     },
     "execution_count": 29,
     "metadata": {},
     "output_type": "execute_result"
    }
   ],
   "source": [
    "# Define the neural network Model\n",
    "class BinaryClassifier(nn.Module):\n",
    "    def __init__(self):\n",
    "        super(BinaryClassifier, self).__init__()\n",
    "        # Define layers\n",
    "        self.layer1 = nn.Linear(train_x.shape[1], 512)  # Input, output\n",
    "        self.layer2 = nn.Linear(512, 256)\n",
    "        self.layer3 = nn.Linear(256, 128)\n",
    "        self.layer4 = nn.Linear(128, 64)\n",
    "        self.layer5 = nn.Linear(64, 32)\n",
    "        self.layer6 = nn.Linear(32, 16)\n",
    "        self.layer7 = nn.Linear(16, 1)\n",
    "\n",
    "        # define dropout layer\n",
    "        self.dropout = nn.Dropout(0.2)\n",
    "\n",
    "    # Define forward pass\n",
    "    def forward(self, x):\n",
    "        x = F.relu(self.layer1(x))\n",
    "        x = F.relu(self.layer2(x))\n",
    "        x = F.relu(self.layer3(x))\n",
    "        x = F.relu(self.layer4(x))\n",
    "        x = F.relu(self.layer5(x))\n",
    "        x = F.relu(self.layer6(x))\n",
    "        x = F.sigmoid(self.layer7(x))\n",
    "        return x\n",
    "\n",
    "'''\n",
    "So now we've designed a fully connected dense neural network for our binary classification task. It consists of 7 layers with ReLU activation functions applied to the first 6 layers and a sigmoid activation function applied to the output of the fourth layer to ensure the output is in the range [0, 1].\n",
    "'''"
   ]
  },
  {
   "cell_type": "code",
   "execution_count": 30,
   "id": "9953a8c2-b890-4b72-9fd2-dec100c344e6",
   "metadata": {
    "editable": true,
    "slideshow": {
     "slide_type": ""
    },
    "tags": []
   },
   "outputs": [],
   "source": [
    "# convert the numpy arrays to pytorch tensors.\n",
    "train_x_tensor = torch.tensor(train_x, dtype=torch.float32)\n",
    "train_y_tensor = torch.tensor(train_y, dtype=torch.float32)\n",
    "test_x_tensor = torch.tensor(test_x, dtype=torch.float32)\n",
    "test_y_tensor = torch.tensor(test_y, dtype=torch.float32)"
   ]
  },
  {
   "cell_type": "code",
   "execution_count": null,
   "id": "a185c95c-fcb0-4a57-8ca2-11602613d3e8",
   "metadata": {},
   "outputs": [],
   "source": []
  },
  {
   "cell_type": "code",
   "execution_count": 31,
   "id": "df394f9c-98d4-4d94-82e1-80d0cfaa9324",
   "metadata": {
    "editable": true,
    "slideshow": {
     "slide_type": ""
    },
    "tags": []
   },
   "outputs": [],
   "source": [
    "'''\n",
    "Define our model inside a function 'train_and_evaluate' model. This model will use a BCE loss function which is the mostly commonly used loss function for binary classification problems. It will then optimize and backwardpropogate the losses after which the values will be printed for every 10 epochs for both train and the test data. Additionally this function will also plot the train and test loss acoss epochs. This will help us to evaluate the presence of overfitiing.\n",
    "'''\n",
    "\n",
    "def train_and_evaluate(model, optimizer, batch_size=128, epochs=25, print_every=5):\n",
    "    model.train() # Set model to train mode\n",
    "\n",
    "    train_loss_list = []\n",
    "    test_loss_list = []\n",
    "    train_AUC_list = []\n",
    "    test_AUC_list = []\n",
    "\n",
    "    # Convert 'Train' Tensor dataset into Torch Dataset \n",
    "    train_dataset = JobChangeDataset(train_x_tensor, train_y_tensor)\n",
    "    train_loader = DataLoader(dataset=train_dataset, batch_size=batch_size, shuffle=True)\n",
    "\n",
    "    # Convert 'Train' Tensor dataset into Torch Dataset\n",
    "    test_dataset = JobChangeDataset(test_x_tensor, test_y_tensor)\n",
    "    test_loader = DataLoader(dataset=test_dataset, batch_size=batch_size, shuffle=False) \n",
    "\n",
    "    # Define loss - Binary Cross Entropy\n",
    "    criterion = nn.BCELoss() \n",
    "\n",
    "    # Train Model for defined epochs\n",
    "    for epoch in range(epochs):\n",
    "        model.train()   # Ensure model is in train mode at the start of each epoch\n",
    "        train_loss = 0.0  \n",
    "        for x_features, y_labels in train_loader:\n",
    "            optimizer.zero_grad()  # Clear the gradients of all optimized variables\n",
    "\n",
    "            # Forward Pass -\n",
    "            preds = model(x_features)  # (pred/outout) pass our data(input features) through the model\n",
    "            loss = criterion(preds.squeeze(), y_labels) # calculate the loss between model outputs and expected labels\n",
    "\n",
    "            # Backward Pass -\n",
    "            optimizer.zero_grad()\n",
    "            loss.backward()       # Backward pass: compute the gradient of the loss with respect to model \n",
    "            optimizer.step()      # Perform a single optimization step (parameter update)\n",
    "\n",
    "            train_loss += loss.item()  # Accumulate the training loss to later calculate the average\n",
    "\n",
    "        # Calculate the average training loss for current epoch/loop\n",
    "        train_loss = train_loss / len(train_loader)  # len(train_loader) means  total number of batches in the training dataset.\n",
    "        train_loss_list.append(train_loss)\n",
    "        '''\n",
    "        By dividing the total training loss by the number of batches, we obtain the average loss per       sample. This metric provides a standardized measure of the model's performance on the training data, regardless of the batch size or dataset size. It is commonly used to monitor the training progress and compare models during training.\n",
    "        '''\n",
    "\n",
    "        # Evaluate model on test data\n",
    "        model.eval()  # Switch model to evaluation mode\n",
    "\n",
    "        test_loss = 0.0\n",
    "        # Disable gradient calculation for evaluation to save memory and computations\n",
    "        with torch.no_grad():\n",
    "            for x_features, y_labels in test_loader:\n",
    "                # Forward Pass -\n",
    "                preds = model(x_features) # compute the preds of the model by passing the input features\n",
    "                loss = criterion(preds.squeeze(), y_labels) # # Calculate the loss between the model output and expected labels\n",
    "\n",
    "                test_loss += loss.item() # Accumulate the test loss to later calculate the average\n",
    "\n",
    "            # Calculate ROC_AUC_score after each loop\n",
    "            train_auc = roc_auc_score(train_y_tensor, model(train_x_tensor).sigmoid()) \n",
    "            test_auc = roc_auc_score(test_y_tensor, model(test_x_tensor).sigmoid())\n",
    "            '''\n",
    "            The first argument to roc_auc_score should be the true labels, and the second argument should be the predicted probabilities. \n",
    "            The model(X_train_tensor) and model(X_test_tensor) will give the raw output from your model, which might not be in the form of probabilities. If your model’s output is not probabilities, you might want to apply a sigmoid function to convert the output to probabilities, especially if your model is a binary classifier.\n",
    "            '''\n",
    "        # Calculate test loss for epoch\n",
    "        test_loss = test_loss / len(test_loader)\n",
    "        test_loss_list.append(test_loss)\n",
    "\n",
    "        # Print losses\n",
    "        if (epoch + 1) % print_every == 0:\n",
    "            print(f'Epoch {epoch+1}/{epochs},Train Loss: {train_loss:.4f}, Test Loss: {test_loss:.4f}, Train Auc: {train_auc:.4f}, Test Auc: {test_auc:.4f}')\n",
    "\n",
    "\n",
    "    # Plot losses for train and test set\n",
    "    plt.plot(range(epochs), train_loss_list, label='train')\n",
    "    plt.plot(range(epochs), test_loss_list,  label = 'test')\n",
    "    plt.xlabel('Epochs')\n",
    "    plt.ylabel('Loss')\n",
    "    plt.title('Training and Test Loss')\n",
    "    plt.legend()\n",
    "    plt.show()"
   ]
  },
  {
   "cell_type": "code",
   "execution_count": null,
   "id": "a86c517e-86dc-4384-a245-85f88ceec7a9",
   "metadata": {
    "editable": true,
    "slideshow": {
     "slide_type": ""
    },
    "tags": []
   },
   "outputs": [],
   "source": []
  },
  {
   "cell_type": "markdown",
   "id": "286171c6-e90f-4738-84d5-6547452602a8",
   "metadata": {},
   "source": [
    "### Train Model"
   ]
  },
  {
   "cell_type": "code",
   "execution_count": 32,
   "id": "e9f4c498-6e5d-4170-8c10-36c68f50e327",
   "metadata": {
    "editable": true,
    "slideshow": {
     "slide_type": ""
    },
    "tags": []
   },
   "outputs": [
    {
     "name": "stdout",
     "output_type": "stream",
     "text": [
      "Epoch 10/100,Train Loss: 0.3944, Test Loss: 0.3765, Train Auc: 0.5722, Test Auc: 0.5812\n",
      "Epoch 20/100,Train Loss: 0.3937, Test Loss: 0.3752, Train Auc: 0.5854, Test Auc: 0.5931\n",
      "Epoch 30/100,Train Loss: 0.3940, Test Loss: 0.3752, Train Auc: 0.5919, Test Auc: 0.5999\n",
      "Epoch 40/100,Train Loss: 0.3939, Test Loss: 0.3752, Train Auc: 0.5936, Test Auc: 0.5998\n",
      "Epoch 50/100,Train Loss: 0.3938, Test Loss: 0.3751, Train Auc: 0.5985, Test Auc: 0.6035\n",
      "Epoch 60/100,Train Loss: 0.3938, Test Loss: 0.3751, Train Auc: 0.6030, Test Auc: 0.6083\n",
      "Epoch 70/100,Train Loss: 0.3941, Test Loss: 0.3751, Train Auc: 0.6065, Test Auc: 0.6120\n",
      "Epoch 80/100,Train Loss: 0.3942, Test Loss: 0.3751, Train Auc: 0.6092, Test Auc: 0.6150\n",
      "Epoch 90/100,Train Loss: 0.3939, Test Loss: 0.3751, Train Auc: 0.6111, Test Auc: 0.6175\n",
      "Epoch 100/100,Train Loss: 0.3938, Test Loss: 0.3750, Train Auc: 0.6125, Test Auc: 0.6193\n"
     ]
    },
    {
     "data": {
      "image/png": "[encoded data removed]",
      "text/plain": [
       "<Figure size 640x480 with 1 Axes>"
      ]
     },
     "metadata": {},
     "output_type": "display_data"
    }
   ],
   "source": [
    "# We have to create a new model class here due the pass-by-reference feature of python functions\n",
    "model = BinaryClassifier()\n",
    "\n",
    "# Initialize optimizer\n",
    "opt = optim.SGD(model.parameters(), lr=0.001, momentum=0.9, nesterov=True)\n",
    "\n",
    "# Train using optimizer_sgd\n",
    "train_and_evaluate(model, opt, epochs=100, print_every=10)"
   ]
  },
  {
   "cell_type": "raw",
   "id": "28258302-1d81-4ffa-a6b8-344bdffe2a9f",
   "metadata": {
    "editable": true,
    "slideshow": {
     "slide_type": ""
    },
    "tags": []
   },
   "source": [
    "Our score does not improve significantly on test set after 10 epochs"
   ]
  },
  {
   "cell_type": "code",
   "execution_count": null,
   "id": "da8cc8e2-ae89-4836-ae06-d1d212e5849c",
   "metadata": {},
   "outputs": [],
   "source": []
  },
  {
   "cell_type": "markdown",
   "id": "c7a0b130-42a5-4dee-a035-460d17e02f84",
   "metadata": {},
   "source": [
    "#### Train the model trained with the Adam optimizer"
   ]
  },
  {
   "cell_type": "code",
   "execution_count": 33,
   "id": "17c7086e-6607-4af5-9db9-fb1b59571d02",
   "metadata": {},
   "outputs": [
    {
     "name": "stdout",
     "output_type": "stream",
     "text": [
      "Epoch 10/100,Train Loss: 0.3701, Test Loss: 0.3636, Train Auc: 0.6957, Test Auc: 0.6408\n",
      "Epoch 20/100,Train Loss: 0.3557, Test Loss: 0.3774, Train Auc: 0.7357, Test Auc: 0.6191\n",
      "Epoch 30/100,Train Loss: 0.3398, Test Loss: 0.4065, Train Auc: 0.7691, Test Auc: 0.5922\n",
      "Epoch 40/100,Train Loss: 0.3219, Test Loss: 0.4493, Train Auc: 0.7976, Test Auc: 0.5774\n",
      "Epoch 50/100,Train Loss: 0.3020, Test Loss: 0.4972, Train Auc: 0.8244, Test Auc: 0.5687\n",
      "Epoch 60/100,Train Loss: 0.2698, Test Loss: 0.7208, Train Auc: 0.8699, Test Auc: 0.5519\n",
      "Epoch 70/100,Train Loss: 0.2428, Test Loss: 1.0953, Train Auc: 0.8932, Test Auc: 0.5249\n",
      "Epoch 80/100,Train Loss: 0.2375, Test Loss: 0.9794, Train Auc: 0.9077, Test Auc: 0.5264\n",
      "Epoch 90/100,Train Loss: 0.2041, Test Loss: 1.3074, Train Auc: 0.9332, Test Auc: 0.5160\n",
      "Epoch 100/100,Train Loss: 0.1913, Test Loss: 1.4229, Train Auc: 0.9489, Test Auc: 0.5160\n"
     ]
    },
    {
     "data": {
      "image/png": "[encoded data removed]",
      "text/plain": [
       "<Figure size 640x480 with 1 Axes>"
      ]
     },
     "metadata": {},
     "output_type": "display_data"
    }
   ],
   "source": [
    "# Initialize Model\n",
    "model = BinaryClassifier()\n",
    "#Initialize Optimizer\n",
    "opt = optim.Adam(model.parameters(), lr=0.001)\n",
    "# Train using ADAM optimizer\n",
    "train_and_evaluate(model, opt, epochs=100, print_every=10)"
   ]
  },
  {
   "cell_type": "raw",
   "id": "e33077cd-9b77-4fad-ab79-728dad4c079c",
   "metadata": {
    "editable": true,
    "slideshow": {
     "slide_type": ""
    },
    "tags": []
   },
   "source": [
    "As you can see, the model is even more  overfitting as the number of epochs are increasing. The test loss is increasing exponentially after 40 epochs. "
   ]
  },
  {
   "cell_type": "code",
   "execution_count": null,
   "id": "f8f97198-acaa-4cec-aa8f-21acba050f84",
   "metadata": {
    "editable": true,
    "slideshow": {
     "slide_type": ""
    },
    "tags": []
   },
   "outputs": [],
   "source": []
  },
  {
   "cell_type": "code",
   "execution_count": null,
   "id": "385ee1b6-4dde-41b1-9148-384eb4e442e6",
   "metadata": {},
   "outputs": [],
   "source": []
  },
  {
   "cell_type": "markdown",
   "id": "2e650268-a6c4-4389-8ad6-4cb403117605",
   "metadata": {},
   "source": [
    "# Optimize models"
   ]
  },
  {
   "cell_type": "markdown",
   "id": "a4eab5e2-6424-4e9f-9b65-dfe4b19368f2",
   "metadata": {},
   "source": [
    "### Add Dropout Layers, Use Leaky ReLu, Use Batch Normalization"
   ]
  },
  {
   "cell_type": "code",
   "execution_count": 34,
   "id": "fe3b22b7-2b0e-41e7-8737-186c954359df",
   "metadata": {},
   "outputs": [
    {
     "data": {
      "text/plain": [
       "\"\\nSo now we've designed a fully connected dense neural network for our binary classification task. It consists of 7 layers with Leaky ReLU activation functions applied to the first 6 layers and a sigmoid activation function applied to the output of the fourth layer to ensure the output is in the range [0, 1].\\n\""
      ]
     },
     "execution_count": 34,
     "metadata": {},
     "output_type": "execute_result"
    }
   ],
   "source": [
    "# Define the neural network Model\n",
    "class BinaryClassifier(nn.Module):\n",
    "    def __init__(self):\n",
    "        super(BinaryClassifier, self).__init__()\n",
    "        # Define layers\n",
    "        self.layer1 = nn.Linear(train_x.shape[1], 512)  # Input, output\n",
    "        self.bn1 = nn.BatchNorm1d(512)  # Batch normalization layer\n",
    "        self.dropout1 = nn.Dropout(0.5)  # Adding dropout layer\n",
    "        self.layer2 = nn.Linear(512, 256)\n",
    "        self.bn1 = nn.BatchNorm1d(256)  # Batch normalization layer\n",
    "        self.dropout2 = nn.Dropout(0.5)  # Adding dropout layer\n",
    "        self.layer3 = nn.Linear(256, 128)\n",
    "        self.bn1 = nn.BatchNorm1d(128)  # Batch normalization layer\n",
    "        self.dropout3 = nn.Dropout(0.5)  # Adding dropout layer\n",
    "        self.layer4 = nn.Linear(128, 64)\n",
    "        self.bn1 = nn.BatchNorm1d(64)  # Batch normalization layer\n",
    "        self.dropout4 = nn.Dropout(0.5)  # Adding dropout layer\n",
    "        self.layer5 = nn.Linear(64, 32)\n",
    "        self.bn1 = nn.BatchNorm1d(32)  # Batch normalization layer\n",
    "        self.dropout5 = nn.Dropout(0.5)  # Adding dropout layer\n",
    "        self.layer6 = nn.Linear(32, 16)\n",
    "        self.bn1 = nn.BatchNorm1d(16)  # Batch normalization layer\n",
    "        self.dropout6 = nn.Dropout(0.5)  # Adding dropout layer\n",
    "        self.layer7 = nn.Linear(16, 1)\n",
    "\n",
    "        # define dropout layer\n",
    "        #self.dropout = nn.Dropout(0.2)\n",
    "\n",
    "    # Define forward pass\n",
    "    def forward(self, x):\n",
    "        x = F.leaky_relu(self.layer1(x), negative_slope=0.01)\n",
    "        x = self.dropout1(x)\n",
    "        x = F.leaky_relu(self.layer2(x), negative_slope=0.01)\n",
    "        x = self.dropout2(x)\n",
    "        x = F.leaky_relu(self.layer3(x), negative_slope=0.01)\n",
    "        x = self.dropout3(x)\n",
    "        x = F.leaky_relu(self.layer4(x), negative_slope=0.01)\n",
    "        x = self.dropout4(x)\n",
    "        x = F.leaky_relu(self.layer5(x), negative_slope=0.01)\n",
    "        x = self.dropout5(x)\n",
    "        x = F.leaky_relu(self.layer6(x), negative_slope=0.01)\n",
    "        x = self.dropout6(x)\n",
    "        x = F.sigmoid(self.layer7(x))\n",
    "        return x\n",
    "\n",
    "'''\n",
    "So now we've designed a fully connected dense neural network for our binary classification task. It consists of 7 layers with Leaky ReLU activation functions applied to the first 6 layers and a sigmoid activation function applied to the output of the fourth layer to ensure the output is in the range [0, 1].\n",
    "'''"
   ]
  },
  {
   "cell_type": "code",
   "execution_count": 35,
   "id": "07e4d358-5947-4ae6-9ad1-6707b2f3d01f",
   "metadata": {},
   "outputs": [
    {
     "name": "stdout",
     "output_type": "stream",
     "text": [
      "Epoch 10/100,Train Loss: 0.3871, Test Loss: 0.3661, Train Auc: 0.6775, Test Auc: 0.6495\n",
      "Epoch 20/100,Train Loss: 0.3808, Test Loss: 0.3621, Train Auc: 0.6912, Test Auc: 0.6462\n",
      "Epoch 30/100,Train Loss: 0.3754, Test Loss: 0.3626, Train Auc: 0.7074, Test Auc: 0.6412\n",
      "Epoch 40/100,Train Loss: 0.3705, Test Loss: 0.3641, Train Auc: 0.7205, Test Auc: 0.6316\n",
      "Epoch 50/100,Train Loss: 0.3671, Test Loss: 0.3662, Train Auc: 0.7267, Test Auc: 0.6368\n",
      "Epoch 60/100,Train Loss: 0.3646, Test Loss: 0.3699, Train Auc: 0.7425, Test Auc: 0.6337\n",
      "Epoch 70/100,Train Loss: 0.3612, Test Loss: 0.3737, Train Auc: 0.7508, Test Auc: 0.6248\n",
      "Epoch 80/100,Train Loss: 0.3590, Test Loss: 0.3827, Train Auc: 0.7581, Test Auc: 0.6238\n",
      "Epoch 90/100,Train Loss: 0.3556, Test Loss: 0.3840, Train Auc: 0.7626, Test Auc: 0.6231\n",
      "Epoch 100/100,Train Loss: 0.3534, Test Loss: 0.3950, Train Auc: 0.7693, Test Auc: 0.6167\n"
     ]
    },
    {
     "data": {
      "image/png": "[encoded data removed]",
      "text/plain": [
       "<Figure size 640x480 with 1 Axes>"
      ]
     },
     "metadata": {},
     "output_type": "display_data"
    }
   ],
   "source": [
    "# Initialize Model\n",
    "model = BinaryClassifier()\n",
    "#Initialize Optimizer\n",
    "opt = optim.Adam(model.parameters())\n",
    "# Train using ADAM optimizer\n",
    "train_and_evaluate(model, opt, epochs=100, print_every=10)"
   ]
  },
  {
   "cell_type": "raw",
   "id": "3dbae9e1-a810-4c2f-ba91-6e670e292f9e",
   "metadata": {},
   "source": [
    "Based on the provided output, it's essential to consider both the training loss, test loss, and AUC scores to determine the best epoch. Here are some considerations:\n",
    "\n",
    "1. **Test Loss**: The epoch with the lowest test loss indicates when the model performs best on unseen data. In this case, epoch 30 seems to have the lowest test loss.\n",
    "\n",
    "2. **AUC Score**: A higher AUC score indicates better discrimination performance of the model. In this case, epoch 10 has the highest test AUC score.\n",
    "\n",
    "3. **Training Loss**: While minimizing test loss and maximizing AUC score are essential, it's also crucial to ensure that the model does not overfit the training data. Monitoring the training loss can help identify overfitting. \n",
    "\n",
    "4. **Consistency**: Look for epochs where both the test loss and AUC score are reasonable and consistent. For instance, while epoch 10 has a high AUC score, the test loss is higher compared to epoch 30.\n",
    "\n",
    "Considering these factors, epoch 30 appears to be a reasonable choice as it demonstrates relatively low test loss, high AUC score, and reasonable training loss. However, it's essential to verify these findings by analyzing additional metrics, experimenting with different hyperparameters, and potentially using techniques like early stopping to prevent overfitting."
   ]
  },
  {
   "cell_type": "code",
   "execution_count": null,
   "id": "12e5382a-e092-432f-9238-21dd60a40956",
   "metadata": {},
   "outputs": [],
   "source": []
  },
  {
   "cell_type": "markdown",
   "id": "4752fdc0-b1f0-4afe-94b0-6df1e3db8f09",
   "metadata": {},
   "source": [
    "#### Try optimizing with less dropout"
   ]
  },
  {
   "cell_type": "code",
   "execution_count": 36,
   "id": "115998f1-20e2-4add-ae9d-a992f8c1ec35",
   "metadata": {},
   "outputs": [
    {
     "data": {
      "text/plain": [
       "\"\\nSo now we've designed a fully connected dense neural network for our binary classification task. It consists of 7 layers with Leaky ReLU activation functions applied to the first 6 layers and a sigmoid activation function applied to the output of the fourth layer to ensure the output is in the range [0, 1].\\n\""
      ]
     },
     "execution_count": 36,
     "metadata": {},
     "output_type": "execute_result"
    }
   ],
   "source": [
    "# Define the neural network Model\n",
    "class BinaryClassifier(nn.Module):\n",
    "    def __init__(self):\n",
    "        super(BinaryClassifier, self).__init__()\n",
    "        # Define layers\n",
    "        self.layer1 = nn.Linear(train_x.shape[1], 512)  # Input, output\n",
    "        self.bn1 = nn.BatchNorm1d(512)  # Batch normalization layer\n",
    "        self.dropout1 = nn.Dropout(0.2)  # Adding dropout layer\n",
    "        self.layer2 = nn.Linear(512, 256)\n",
    "        self.bn1 = nn.BatchNorm1d(256)  # Batch normalization layer\n",
    "        self.dropout2 = nn.Dropout(0.2)  # Adding dropout layer\n",
    "        self.layer3 = nn.Linear(256, 128)\n",
    "        self.bn1 = nn.BatchNorm1d(128)  # Batch normalization layer\n",
    "        self.dropout3 = nn.Dropout(0.2)  # Adding dropout layer\n",
    "        self.layer4 = nn.Linear(128, 64)\n",
    "        self.bn1 = nn.BatchNorm1d(64)  # Batch normalization layer\n",
    "        self.dropout4 = nn.Dropout(0.2)  # Adding dropout layer\n",
    "        self.layer5 = nn.Linear(64, 32)\n",
    "        self.bn1 = nn.BatchNorm1d(32)  # Batch normalization layer\n",
    "        self.dropout5 = nn.Dropout(0.2)  # Adding dropout layer\n",
    "        self.layer6 = nn.Linear(32, 16)\n",
    "        self.bn1 = nn.BatchNorm1d(16)  # Batch normalization layer\n",
    "        self.layer7 = nn.Linear(16, 1)\n",
    "\n",
    "        # define dropout layer\n",
    "        #self.dropout = nn.Dropout(0.2)\n",
    "\n",
    "    # Define forward pass\n",
    "    def forward(self, x):\n",
    "        x = F.leaky_relu(self.layer1(x), negative_slope=0.01)\n",
    "        x = self.dropout1(x)\n",
    "        x = F.leaky_relu(self.layer2(x), negative_slope=0.01)\n",
    "        x = self.dropout2(x)\n",
    "        x = F.leaky_relu(self.layer3(x), negative_slope=0.01)\n",
    "        x = self.dropout3(x)\n",
    "        x = F.leaky_relu(self.layer4(x), negative_slope=0.01)\n",
    "        x = self.dropout4(x)\n",
    "        x = F.leaky_relu(self.layer5(x), negative_slope=0.01)\n",
    "        x = self.dropout5(x)\n",
    "        x = F.leaky_relu(self.layer6(x), negative_slope=0.01)\n",
    "        x = F.sigmoid(self.layer7(x))\n",
    "        return x\n",
    "\n",
    "'''\n",
    "So now we've designed a fully connected dense neural network for our binary classification task. It consists of 7 layers with Leaky ReLU activation functions applied to the first 6 layers and a sigmoid activation function applied to the output of the fourth layer to ensure the output is in the range [0, 1].\n",
    "'''"
   ]
  },
  {
   "cell_type": "code",
   "execution_count": 44,
   "id": "d4a0439a-b6dc-46a7-ab4e-ea22bfca41c0",
   "metadata": {},
   "outputs": [
    {
     "name": "stdout",
     "output_type": "stream",
     "text": [
      "Epoch 10/100,Train Loss: 0.3781, Test Loss: 0.3639, Train Auc: 0.6886, Test Auc: 0.6457\n",
      "Epoch 20/100,Train Loss: 0.3634, Test Loss: 0.3719, Train Auc: 0.7243, Test Auc: 0.6307\n",
      "Epoch 30/100,Train Loss: 0.3516, Test Loss: 0.3762, Train Auc: 0.7541, Test Auc: 0.6188\n",
      "Epoch 40/100,Train Loss: 0.3371, Test Loss: 0.4027, Train Auc: 0.7816, Test Auc: 0.6053\n",
      "Epoch 50/100,Train Loss: 0.3257, Test Loss: 0.4389, Train Auc: 0.8104, Test Auc: 0.5824\n",
      "Epoch 60/100,Train Loss: 0.3097, Test Loss: 0.5291, Train Auc: 0.8379, Test Auc: 0.5659\n",
      "Epoch 70/100,Train Loss: 0.3029, Test Loss: 0.4771, Train Auc: 0.8505, Test Auc: 0.5594\n",
      "Epoch 80/100,Train Loss: 0.2930, Test Loss: 0.5601, Train Auc: 0.8725, Test Auc: 0.5595\n",
      "Epoch 90/100,Train Loss: 0.2839, Test Loss: 0.5695, Train Auc: 0.8853, Test Auc: 0.5470\n",
      "Epoch 100/100,Train Loss: 0.2718, Test Loss: 0.7272, Train Auc: 0.8995, Test Auc: 0.5410\n"
     ]
    },
    {
     "data": {
      "image/png": "[encoded data removed]",
      "text/plain": [
       "<Figure size 640x480 with 1 Axes>"
      ]
     },
     "metadata": {},
     "output_type": "display_data"
    }
   ],
   "source": [
    "# Initialize Model\n",
    "model = BinaryClassifier()\n",
    "#Initialize Optimizer without weight decay\n",
    "opt = optim.Adam(model.parameters())\n",
    "# Train using ADAM optimizer\n",
    "train_and_evaluate(model, opt, epochs=100, print_every=10)"
   ]
  },
  {
   "cell_type": "raw",
   "id": "0b6b157b-5529-4930-9482-a4530d625876",
   "metadata": {},
   "source": [
    "Based on the provided output, the best epoch depends on the evaluation metric you prioritize and the balance between training loss, test loss, and AUC scores.\n",
    "\n",
    "Here are some considerations:\n",
    "\n",
    "1. **Test Loss**: If minimizing test loss is your priority, you might consider epoch 30, where the test loss is relatively low compared to other epochs.\n",
    "\n",
    "2. **AUC Score**: If maximizing AUC score is your goal, you might consider epoch 40, where the AUC score on the test set is highest.\n",
    "\n",
    "3. **Overfitting**: Keep an eye on signs of overfitting. In this case, there's a noticeable increase in both training and test loss after epoch 30, suggesting potential overfitting. However, the AUC scores also start to decline after epoch 40, indicating a decrease in model performance.\n",
    "\n",
    "Given these considerations, you might choose epoch 30 or epoch 40 as the best epoch, depending on your specific priorities and trade-offs between different evaluation metrics. It's also a good idea to visualize the training and test performance over epochs to get a clearer understanding of the model's behavior. Additionally, you can consider techniques like early stopping to prevent overfitting and select the best-performing model based on validation performance."
   ]
  },
  {
   "cell_type": "code",
   "execution_count": null,
   "id": "d7275856-e480-4cc5-8d43-b5261987c2f2",
   "metadata": {},
   "outputs": [],
   "source": []
  },
  {
   "cell_type": "code",
   "execution_count": 38,
   "id": "7abab881-17cc-4995-ac7d-12c11b351cce",
   "metadata": {},
   "outputs": [
    {
     "name": "stdout",
     "output_type": "stream",
     "text": [
      "Epoch 10/100,Train Loss: 0.3822, Test Loss: 0.3607, Train Auc: 0.6575, Test Auc: 0.6467\n",
      "Epoch 20/100,Train Loss: 0.3788, Test Loss: 0.3603, Train Auc: 0.6637, Test Auc: 0.6486\n",
      "Epoch 30/100,Train Loss: 0.3786, Test Loss: 0.3598, Train Auc: 0.6681, Test Auc: 0.6525\n",
      "Epoch 40/100,Train Loss: 0.3785, Test Loss: 0.3612, Train Auc: 0.6724, Test Auc: 0.6550\n",
      "Epoch 50/100,Train Loss: 0.3762, Test Loss: 0.3596, Train Auc: 0.6761, Test Auc: 0.6547\n",
      "Epoch 60/100,Train Loss: 0.3766, Test Loss: 0.3608, Train Auc: 0.6762, Test Auc: 0.6508\n",
      "Epoch 70/100,Train Loss: 0.3755, Test Loss: 0.3632, Train Auc: 0.6788, Test Auc: 0.6524\n",
      "Epoch 80/100,Train Loss: 0.3746, Test Loss: 0.3597, Train Auc: 0.6803, Test Auc: 0.6517\n",
      "Epoch 90/100,Train Loss: 0.3753, Test Loss: 0.3631, Train Auc: 0.6817, Test Auc: 0.6531\n",
      "Epoch 100/100,Train Loss: 0.3743, Test Loss: 0.3599, Train Auc: 0.6842, Test Auc: 0.6536\n"
     ]
    },
    {
     "data": {
      "image/png": "[encoded data removed]",
      "text/plain": [
       "<Figure size 640x480 with 1 Axes>"
      ]
     },
     "metadata": {},
     "output_type": "display_data"
    }
   ],
   "source": [
    "# Initialize Model\n",
    "model = BinaryClassifier()\n",
    "#Initialize Optimizer with weight decay\n",
    "opt = optim.Adam(model.parameters(), weight_decay=1e-3) # 10^3\n",
    "# Train using ADAM optimizer\n",
    "train_and_evaluate(model, opt, epochs=100, print_every=10)"
   ]
  },
  {
   "cell_type": "raw",
   "id": "cb15dcc0-39f8-478d-9d34-2418c2a73483",
   "metadata": {},
   "source": [
    "Based on the provided output, it seems that the model's performance stabilizes after around epoch 30. Here are some considerations for determining the best epoch:\n",
    "\n",
    "1. **Test Loss**: Look for the epoch with the lowest test loss. Lower test loss indicates better generalization performance of the model on unseen data. In this case, epoch 90 has the lowest test loss.\n",
    "\n",
    "2. **AUC Score**: A higher AUC score indicates better discrimination performance of the model. In this case, epoch 40 has the highest test AUC score.\n",
    "\n",
    "3. **Training Loss**: Ensure that the training loss continues to decrease or stabilize. A consistently decreasing training loss may indicate that the model is still learning useful representations from the data. In this case, the training loss continues to decrease until epoch 100, indicating that the model is still learning.\n",
    "\n",
    "4. **Consistency**: Look for epochs where both the test loss and AUC score are reasonable and consistent. For instance, while epoch 90 has the lowest test loss, it also has a slightly lower AUC score compared to epoch 40. \n",
    "\n",
    "Considering these factors, you may choose epoch 40 as the best epoch since it has a relatively low test loss and the highest AUC score. However, it's essential to validate these findings by analyzing additional metrics and potentially experimenting with different hyperparameters or regularization techniques to further improve model performance."
   ]
  },
  {
   "cell_type": "code",
   "execution_count": null,
   "id": "d211bbba-2c8e-4166-88e6-eea320f767ed",
   "metadata": {},
   "outputs": [],
   "source": []
  },
  {
   "cell_type": "markdown",
   "id": "abc39ab8-bc83-4cbb-be76-50bb76f7fa1f",
   "metadata": {},
   "source": [
    "### Early Stopping"
   ]
  },
  {
   "cell_type": "raw",
   "id": "08fcc3ca-f080-4e0a-ae21-fe920963e0eb",
   "metadata": {},
   "source": [
    "In pytorch, early stopping can be implemented in 2 different ways. The first method is to implement it manually by coding and the second way is to use some libraries like Pytorch Lightning or early-stopiing-pytorch. Note that here will will implement early stopping manually, by modifying our original function 'train_and_evaluate_model'. \n",
    "\n",
    "Here, i've set a parameter max_patience to 10. This means that the model will wait for 10 epochs to observe improvements in the test loss. If that does not occur the model will stop training. Further, I've used simple if else clauses to end the training using this criterion. Let's take a look at the results!"
   ]
  },
  {
   "cell_type": "code",
   "execution_count": 56,
   "id": "61a86fbd-0922-4c9a-8876-28c8a3f4a67d",
   "metadata": {},
   "outputs": [],
   "source": [
    "# Training and Evaluation Loop\n",
    "def train_and_evaluate_model_es(model, optimizer, batch_size = 128, epochs=25, print_every=5):\n",
    "    model.train()  # set model to train mode\n",
    "\n",
    "    train_loss_list=[]\n",
    "    test_loss_list = []\n",
    "\n",
    "    best_val_loss = float('inf')\n",
    "    patience = 0\n",
    "    max_patience = 10  # Maximum epochs to wait for improvement\n",
    "\n",
    "    # Convert the tensor based data to torch Dataset objects\n",
    "    train_dataset = JobChangeDataset(train_x_tensor, train_y_tensor)\n",
    "    # Define torch data loader objects for these datasets\n",
    "    train_loader = DataLoader(dataset=train_dataset, batch_size=batch_size, shuffle=True)\n",
    "    \n",
    "    test_dataset = JobChangeDataset(test_x_tensor, test_y_tensor)\n",
    "    test_loader = DataLoader(dataset=test_dataset, batch_size=batch_size, shuffle=False)\n",
    "\n",
    "    criterion = nn.BCELoss()\n",
    "\n",
    "    # Train for the defined number of epochs\n",
    "    for epoch in range(epochs):\n",
    "        train_loss = 0.0\n",
    "        model.train() # set the model to train mode for each epoch, since we are setting it to eval mode later\n",
    "        for i, (features, labels) in enumerate(train_loader):\n",
    "            optimizer.zero_grad() # Clear the gradients of all optimized variables\n",
    "            outputs = model(features) # pass our data(input features) through the model\n",
    "            loss = criterion(outputs.squeeze(), labels) # calculate the loss between model outputs and expected labels\n",
    "            loss.backward() # Backward pass: compute the gradient of the loss with respect to model parameters\n",
    "            optimizer.step() # Perform a single optimization step (parameter update)\n",
    "            train_loss += loss.item() # Accumulate the training loss to later calculate the average\n",
    "        \n",
    "        # Calculate the average training loss for current epoch\n",
    "        train_loss = train_loss / len(train_loader)\n",
    "        train_loss_list.append(train_loss)\n",
    "\n",
    "        # Evaluate on test set\n",
    "        model.eval() # Switch model to evaluation mode\n",
    "        test_loss = 0.0\n",
    "        # Disable gradient calculation for evaluation to save memory and computations\n",
    "        with torch.no_grad():\n",
    "            # Iterate over the test dataset\n",
    "            for features, labels in test_loader:\n",
    "                outputs = model(features) # Forward pass: compute the output of the model by passing the input features\n",
    "                loss = criterion(outputs.squeeze(), labels) # Calculate the loss between the model output and expected labels\n",
    "                test_loss += loss.item() # Accumulate the test loss to later calculate the average\n",
    "            train_auc = roc_auc_score(train_y_tensor, model(train_x_tensor))\n",
    "            test_auc = roc_auc_score(test_y_tensor, model(test_x_tensor))\n",
    "        \n",
    "        # Calculate test loss for epoch\n",
    "        test_loss = test_loss / len(test_loader)\n",
    "        test_loss_list.append(test_loss)\n",
    "\n",
    "# Implementing Early stoping\n",
    "        if test_loss < best_val_loss:\n",
    "            best_val_loss = test_loss\n",
    "            patience = 0\n",
    "            # torch.save(model.state_dict(), 'best_model.pt')\n",
    "        else:\n",
    "            patience += 1\n",
    "\n",
    "        if patience >= max_patience:\n",
    "            print(f'Early stopped at {epoch+1}')\n",
    "            break  # Stop training\n",
    "\n",
    "        # Print losses\n",
    "        if (epoch + 1) % print_every == 0:\n",
    "            print(f'Epoch {epoch+1}/{epochs},Train Loss: {train_loss:.4f}, Test Loss: {test_loss:.4f}, Train Auc: {train_auc:.4f}, Test Auc: {test_auc:.4f}')\n",
    "\n",
    "    plt.plot(range(len(train_loss_list)),train_loss_list, label = 'train')\n",
    "    plt.plot(range(len(train_loss_list)),test_loss_list, label = 'test')\n",
    "    plt.legend()\n",
    "    plt.show()\n",
    "    \n",
    "    "
   ]
  },
  {
   "cell_type": "code",
   "execution_count": 57,
   "id": "65c8fdef-ae43-4557-925f-95cd7108e831",
   "metadata": {},
   "outputs": [
    {
     "name": "stdout",
     "output_type": "stream",
     "text": [
      "Epoch 10/100,Train Loss: 0.3760, Test Loss: 0.3602, Train Auc: 0.6890, Test Auc: 0.6509\n",
      "Early stopped at 20\n"
     ]
    },
    {
     "data": {
      "image/png": "[encoded data removed]",
      "text/plain": [
       "<Figure size 640x480 with 1 Axes>"
      ]
     },
     "metadata": {},
     "output_type": "display_data"
    }
   ],
   "source": [
    "model = BinaryClassifier()\n",
    "# Initialize Adam optimizer\n",
    "optimizer = optim.Adam(model.parameters())\n",
    "# Train using optimizer_sgd\n",
    "train_and_evaluate_model_es(model, optimizer, epochs=100, print_every=10)"
   ]
  },
  {
   "cell_type": "raw",
   "id": "b6d301d4-5a61-4606-aef4-7113b5b2fb6a",
   "metadata": {},
   "source": [
    "here the model stopped early at Epoch number 20, because the loss on the test set did not improve from the last 10 epochs."
   ]
  },
  {
   "cell_type": "code",
   "execution_count": null,
   "id": "0197df10-4533-4ecb-8828-a5c62b69e75f",
   "metadata": {},
   "outputs": [],
   "source": []
  },
  {
   "cell_type": "markdown",
   "id": "4e445400-333f-4e4e-bc12-ba72bd5d3ac8",
   "metadata": {},
   "source": [
    "### Now let us see how to tune hyperparameters with the Optuna package"
   ]
  },
  {
   "cell_type": "code",
   "execution_count": 62,
   "id": "d45c483e-2770-4c34-88f1-d0712796daf3",
   "metadata": {},
   "outputs": [],
   "source": [
    "device=\"cpu\"  # 'cuda' or 'cpu'"
   ]
  },
  {
   "cell_type": "code",
   "execution_count": 63,
   "id": "e789be93-3a48-4d87-9da0-6577bfa4ffce",
   "metadata": {},
   "outputs": [
    {
     "data": {
      "text/plain": [
       "False"
      ]
     },
     "execution_count": 63,
     "metadata": {},
     "output_type": "execute_result"
    }
   ],
   "source": [
    "torch.cuda.is_available()"
   ]
  },
  {
   "cell_type": "code",
   "execution_count": 69,
   "id": "511ba892-1cf9-422d-9d07-29b3e93181ea",
   "metadata": {},
   "outputs": [],
   "source": [
    "def train_and_evaluate_model_optuna(model, optimizer_optuna, batch_size=512, epochs=25, print_every=5, show_plot=False):\n",
    "    # model.to(device)  # Move the model to the designated device\n",
    "\n",
    "    model.train()  # Set model to train mode\n",
    "\n",
    "    train_loss_list = []\n",
    "    test_loss_list = []\n",
    "\n",
    "    # Convert the tensor-based data to torch Dataset objects\n",
    "    train_dataset = JobChangeDataset(train_x_tensor.to(device), train_y_tensor.to(device))\n",
    "    # Define torch data loader objects for these datasets\n",
    "    train_loader = DataLoader(dataset=train_dataset, batch_size=batch_size, shuffle=True)\n",
    "    \n",
    "    test_dataset = JobChangeDataset(test_x_tensor.to(device), test_y_tensor.to(device))\n",
    "    test_loader = DataLoader(dataset=test_dataset, batch_size=batch_size, shuffle=False)\n",
    "\n",
    "    criterion = nn.BCELoss()\n",
    "\n",
    "    # Train for the defined number of epochs\n",
    "    for epoch in range(epochs):\n",
    "        train_loss = 0.0\n",
    "        model.train()\n",
    "        for features, labels in train_loader:\n",
    "            # features, labels = features.to(device), labels.to(device)  # Move data to the device\n",
    "\n",
    "            optimizer_optuna.zero_grad()  # Clear the gradients of all optimized variables\n",
    "            outputs = model(features)  # Pass data through the model\n",
    "            loss = criterion(outputs.squeeze(), labels)  # Calculate loss\n",
    "            loss.backward()  # Backward pass: compute gradient of the loss with respect to model parameters\n",
    "            optimizer_optuna.step()  # Perform a single optimization step (parameter update)\n",
    "            train_loss += loss.item()  # Accumulate the training loss\n",
    "        \n",
    "        # Calculate the average training loss for the current epoch\n",
    "        train_loss /= len(train_loader)\n",
    "        train_loss_list.append(train_loss)\n",
    "\n",
    "        # Evaluate on the test set\n",
    "        model.eval()  # Switch model to evaluation mode\n",
    "        test_loss = 0.0\n",
    "        with torch.no_grad():  # Disable gradient calculation\n",
    "            for features, labels in test_loader:\n",
    "                # features, labels = features.to(device), labels.to(device)  # Move data to the device\n",
    "                outputs = model(features)\n",
    "                loss = criterion(outputs.squeeze(), labels)\n",
    "                test_loss += loss.item()\n",
    "                \n",
    "        test_loss /= len(test_loader)\n",
    "        test_loss_list.append(test_loss)\n",
    "\n",
    "        if (epoch + 1) % print_every == 0:\n",
    "            print(f'Epoch {epoch+1}/{epochs}, Train Loss: {train_loss:.4f}, Test Loss: {test_loss:.4f}')\n",
    "    \n",
    "            # set model to evaluation mode\n",
    "            model.eval()\n",
    "            with torch.no_grad():\n",
    "                train_preds = model(train_x_tensor.to(device)).squeeze()\n",
    "                test_preds = model(test_x_tensor.to(device)).squeeze()\n",
    "                train_auc = roc_auc_score(train_y_tensor.cpu(), train_preds.cpu())\n",
    "                test_auc = roc_auc_score(test_y_tensor.cpu(), test_preds.cpu())\n",
    "\n",
    "            print(f'Train AUC: {train_auc:.4f}, Test AUC: {test_auc:.4f}')\n",
    "    if (show_plot):\n",
    "        plt.plot(range(epochs),train_loss_list, label = 'train')\n",
    "        plt.plot(range(epochs),test_loss_list, label = 'test')\n",
    "        plt.legend()\n",
    "        plt.show()\n",
    "\n",
    "    # Returning the last epoch AUC values for Optuna optimization\n",
    "    return train_auc, test_auc  \n"
   ]
  },
  {
   "cell_type": "code",
   "execution_count": 73,
   "id": "50367336-478e-44da-ac85-f03e83cfb1a8",
   "metadata": {},
   "outputs": [],
   "source": [
    "# This is a generic class definition which can be instantiated with different hyperparameters\n",
    "# by the optuna package, to find the optimal hyperparameter set.\n",
    "\n",
    "class BinaryClassifierDropoutOptuna(nn.Module):\n",
    "    def __init__(self, num_features, num_classes, dropout_rate, num_layers, num_nodes):\n",
    "        super(BinaryClassifierDropoutOptuna, self).__init__()\n",
    "        layers = []\n",
    "        prev_nodes = num_features  # Input size\n",
    "        \n",
    "        # Dynamically create layers based on num_layers and num_nodes\n",
    "        for _ in range(num_layers):\n",
    "            layers.append(nn.Linear(prev_nodes, num_nodes))\n",
    "            layers.append(nn.LeakyReLU())\n",
    "            layers.append(nn.Dropout(dropout_rate))\n",
    "            layers.append(nn.BatchNorm1d(num_nodes))\n",
    "            prev_nodes = num_nodes  # Update prev_nodes for the next layer\n",
    "        \n",
    "        # Output layer\n",
    "        layers.append(nn.Linear(prev_nodes, num_classes))\n",
    "        self.layers = nn.Sequential(*layers)\n",
    "        \n",
    "    def forward(self, x):\n",
    "        x = self.layers(x)\n",
    "        x = torch.sigmoid(x)  \n",
    "        return x"
   ]
  },
  {
   "cell_type": "code",
   "execution_count": null,
   "id": "50fce4fd-45c7-4d58-ba6d-59eb8283d18f",
   "metadata": {},
   "outputs": [],
   "source": [
    "def objective(trial):\n",
    "    # Hyperparameters to be optimized\n",
    "    dropout_rate = trial.suggest_float('dropout_rate', 0.1, 0.5) # trial range will be from 0.1 to 0.5\n",
    "    num_layers = trial.suggest_int('num_layers', 1, 3)  # Suggesting 1 to 3 layers\n",
    "    num_nodes = trial.suggest_categorical('num_nodes', [64, 128])  # Nodes per layer options\n",
    "    lr = trial.suggest_float('lr', 1e-5, 1e-1, log=True)\n",
    "    \n",
    "    # Model instantiation\n",
    "    model = BinaryClassifierDropoutOptuna(num_features=X_train.shape[1], num_classes=1, \n",
    "                                    dropout_rate=dropout_rate, num_layers=num_layers, num_nodes=num_nodes)\n",
    "    optimizer = optim.Adam(model.parameters(), lr=lr)\n",
    "    \n",
    "    # Train and evaluate the model\n",
    "    train_auc, test_auc = train_and_evaluate_model_optuna(model, optimizer, epochs=30, print_every=10)\n",
    "    \n",
    "    return test_auc\n"
   ]
  },
  {
   "cell_type": "code",
   "execution_count": 74,
   "id": "19945f71-84ed-49c6-8070-e985da51575b",
   "metadata": {
    "scrolled": true
   },
   "outputs": [
    {
     "name": "stderr",
     "output_type": "stream",
     "text": [
      "[I 2024-04-07 18:37:55,204] A new study created in memory with name: no-name-5e675c18-7ed6-4cbf-8f3a-d1a8a927c275\n"
     ]
    },
    {
     "name": "stdout",
     "output_type": "stream",
     "text": [
      "Epoch 10/30, Train Loss: 0.7144, Test Loss: 0.6301\n",
      "Train AUC: 0.5797, Test AUC: 0.5710\n",
      "Epoch 20/30, Train Loss: 0.6914, Test Loss: 0.6160\n",
      "Train AUC: 0.5990, Test AUC: 0.5903\n"
     ]
    },
    {
     "name": "stderr",
     "output_type": "stream",
     "text": [
      "[I 2024-04-07 18:38:01,555] Trial 0 finished with value: 0.5949719415622203 and parameters: {'dropout_rate': 0.48921285263602565, 'num_layers': 3, 'num_nodes': 64, 'lr': 3.92916321056359e-05}. Best is trial 0 with value: 0.5949719415622203.\n"
     ]
    },
    {
     "name": "stdout",
     "output_type": "stream",
     "text": [
      "Epoch 30/30, Train Loss: 0.6737, Test Loss: 0.5970\n",
      "Train AUC: 0.6067, Test AUC: 0.5950\n",
      "Epoch 10/30, Train Loss: 0.3742, Test Loss: 0.3580\n",
      "Train AUC: 0.6893, Test AUC: 0.6334\n",
      "Epoch 20/30, Train Loss: 0.3688, Test Loss: 0.3618\n",
      "Train AUC: 0.7144, Test AUC: 0.6328\n"
     ]
    },
    {
     "name": "stderr",
     "output_type": "stream",
     "text": [
      "[I 2024-04-07 18:38:09,037] Trial 1 finished with value: 0.6249248768933916 and parameters: {'dropout_rate': 0.2646657226302582, 'num_layers': 3, 'num_nodes': 128, 'lr': 0.005528653452073961}. Best is trial 1 with value: 0.6249248768933916.\n"
     ]
    },
    {
     "name": "stdout",
     "output_type": "stream",
     "text": [
      "Epoch 30/30, Train Loss: 0.3640, Test Loss: 0.3660\n",
      "Train AUC: 0.7290, Test AUC: 0.6249\n",
      "Epoch 10/30, Train Loss: 0.6831, Test Loss: 0.6437\n",
      "Train AUC: 0.6236, Test AUC: 0.5930\n",
      "Epoch 20/30, Train Loss: 0.6630, Test Loss: 0.6321\n",
      "Train AUC: 0.6474, Test AUC: 0.6065\n"
     ]
    },
    {
     "name": "stderr",
     "output_type": "stream",
     "text": [
      "[I 2024-04-07 18:38:16,532] Trial 2 finished with value: 0.6128970124314703 and parameters: {'dropout_rate': 0.13981892115429534, 'num_layers': 3, 'num_nodes': 128, 'lr': 2.3456021073281334e-05}. Best is trial 1 with value: 0.6249248768933916.\n"
     ]
    },
    {
     "name": "stdout",
     "output_type": "stream",
     "text": [
      "Epoch 30/30, Train Loss: 0.6459, Test Loss: 0.6188\n",
      "Train AUC: 0.6613, Test AUC: 0.6129\n",
      "Epoch 10/30, Train Loss: 0.3792, Test Loss: 0.3553\n",
      "Train AUC: 0.6649, Test AUC: 0.6466\n",
      "Epoch 20/30, Train Loss: 0.3792, Test Loss: 0.3572\n",
      "Train AUC: 0.6638, Test AUC: 0.6433\n"
     ]
    },
    {
     "name": "stderr",
     "output_type": "stream",
     "text": [
      "[I 2024-04-07 18:38:21,545] Trial 3 finished with value: 0.646912210610139 and parameters: {'dropout_rate': 0.36174290280311017, 'num_layers': 1, 'num_nodes': 128, 'lr': 0.09455819087679213}. Best is trial 3 with value: 0.646912210610139.\n"
     ]
    },
    {
     "name": "stdout",
     "output_type": "stream",
     "text": [
      "Epoch 30/30, Train Loss: 0.3795, Test Loss: 0.3556\n",
      "Train AUC: 0.6661, Test AUC: 0.6469\n",
      "Epoch 10/30, Train Loss: 0.6794, Test Loss: 0.6903\n",
      "Train AUC: 0.5996, Test AUC: 0.5863\n",
      "Epoch 20/30, Train Loss: 0.6563, Test Loss: 0.6694\n",
      "Train AUC: 0.6225, Test AUC: 0.6046\n"
     ]
    },
    {
     "name": "stderr",
     "output_type": "stream",
     "text": [
      "[I 2024-04-07 18:38:29,492] Trial 4 finished with value: 0.6133826326948011 and parameters: {'dropout_rate': 0.38665719269613763, 'num_layers': 3, 'num_nodes': 128, 'lr': 2.279422000385694e-05}. Best is trial 3 with value: 0.646912210610139.\n"
     ]
    },
    {
     "name": "stdout",
     "output_type": "stream",
     "text": [
      "Epoch 30/30, Train Loss: 0.6407, Test Loss: 0.6508\n",
      "Train AUC: 0.6338, Test AUC: 0.6134\n",
      "Epoch 10/30, Train Loss: 0.4086, Test Loss: 0.3741\n",
      "Train AUC: 0.6933, Test AUC: 0.6105\n",
      "Epoch 20/30, Train Loss: 0.3810, Test Loss: 0.3585\n",
      "Train AUC: 0.7141, Test AUC: 0.6263\n"
     ]
    },
    {
     "name": "stderr",
     "output_type": "stream",
     "text": [
      "[I 2024-04-07 18:38:34,964] Trial 5 finished with value: 0.627995821011329 and parameters: {'dropout_rate': 0.17510844519808302, 'num_layers': 2, 'num_nodes': 64, 'lr': 0.0005706235198524386}. Best is trial 3 with value: 0.646912210610139.\n"
     ]
    },
    {
     "name": "stdout",
     "output_type": "stream",
     "text": [
      "Epoch 30/30, Train Loss: 0.3740, Test Loss: 0.3597\n",
      "Train AUC: 0.7257, Test AUC: 0.6280\n",
      "Epoch 10/30, Train Loss: 0.5732, Test Loss: 0.5643\n",
      "Train AUC: 0.6345, Test AUC: 0.6318\n",
      "Epoch 20/30, Train Loss: 0.4566, Test Loss: 0.4250\n",
      "Train AUC: 0.6485, Test AUC: 0.6397\n"
     ]
    },
    {
     "name": "stderr",
     "output_type": "stream",
     "text": [
      "[I 2024-04-07 18:38:41,719] Trial 6 finished with value: 0.6421240696815733 and parameters: {'dropout_rate': 0.448887318867462, 'num_layers': 3, 'num_nodes': 64, 'lr': 0.0002450485969729137}. Best is trial 3 with value: 0.646912210610139.\n"
     ]
    },
    {
     "name": "stdout",
     "output_type": "stream",
     "text": [
      "Epoch 30/30, Train Loss: 0.4134, Test Loss: 0.3720\n",
      "Train AUC: 0.6574, Test AUC: 0.6421\n",
      "Epoch 10/30, Train Loss: 0.3786, Test Loss: 0.3562\n",
      "Train AUC: 0.6635, Test AUC: 0.6480\n",
      "Epoch 20/30, Train Loss: 0.3804, Test Loss: 0.3572\n",
      "Train AUC: 0.6643, Test AUC: 0.6403\n"
     ]
    },
    {
     "name": "stderr",
     "output_type": "stream",
     "text": [
      "[I 2024-04-07 18:38:47,273] Trial 7 finished with value: 0.6413216221826707 and parameters: {'dropout_rate': 0.2257239973274579, 'num_layers': 1, 'num_nodes': 128, 'lr': 0.09253905289875618}. Best is trial 3 with value: 0.646912210610139.\n"
     ]
    },
    {
     "name": "stdout",
     "output_type": "stream",
     "text": [
      "Epoch 30/30, Train Loss: 0.3823, Test Loss: 0.3581\n",
      "Train AUC: 0.6653, Test AUC: 0.6413\n",
      "Epoch 10/30, Train Loss: 0.5949, Test Loss: 0.5595\n",
      "Train AUC: 0.6565, Test AUC: 0.6266\n",
      "Epoch 20/30, Train Loss: 0.4786, Test Loss: 0.4345\n",
      "Train AUC: 0.6755, Test AUC: 0.6239\n"
     ]
    },
    {
     "name": "stderr",
     "output_type": "stream",
     "text": [
      "[I 2024-04-07 18:38:53,292] Trial 8 finished with value: 0.6295724704016661 and parameters: {'dropout_rate': 0.2461654795209166, 'num_layers': 2, 'num_nodes': 64, 'lr': 0.0001948837332341984}. Best is trial 3 with value: 0.646912210610139.\n"
     ]
    },
    {
     "name": "stdout",
     "output_type": "stream",
     "text": [
      "Epoch 30/30, Train Loss: 0.4114, Test Loss: 0.3718\n",
      "Train AUC: 0.6875, Test AUC: 0.6296\n",
      "Epoch 10/30, Train Loss: 0.3809, Test Loss: 0.3543\n",
      "Train AUC: 0.6793, Test AUC: 0.6499\n",
      "Epoch 20/30, Train Loss: 0.3748, Test Loss: 0.3566\n",
      "Train AUC: 0.6831, Test AUC: 0.6474\n"
     ]
    },
    {
     "name": "stderr",
     "output_type": "stream",
     "text": [
      "[I 2024-04-07 18:39:01,147] Trial 9 finished with value: 0.6488128337150461 and parameters: {'dropout_rate': 0.31800089840822215, 'num_layers': 3, 'num_nodes': 128, 'lr': 0.02995078041752302}. Best is trial 9 with value: 0.6488128337150461.\n"
     ]
    },
    {
     "name": "stdout",
     "output_type": "stream",
     "text": [
      "Epoch 30/30, Train Loss: 0.3730, Test Loss: 0.3533\n",
      "Train AUC: 0.6895, Test AUC: 0.6488\n",
      "Epoch 10/30, Train Loss: 0.3754, Test Loss: 0.3538\n",
      "Train AUC: 0.6872, Test AUC: 0.6487\n",
      "Epoch 20/30, Train Loss: 0.3720, Test Loss: 0.3617\n",
      "Train AUC: 0.6943, Test AUC: 0.6345\n"
     ]
    },
    {
     "name": "stderr",
     "output_type": "stream",
     "text": [
      "[I 2024-04-07 18:39:07,539] Trial 10 finished with value: 0.6468162436064536 and parameters: {'dropout_rate': 0.3526168678068766, 'num_layers': 2, 'num_nodes': 128, 'lr': 0.008251528384026704}. Best is trial 9 with value: 0.6488128337150461.\n"
     ]
    },
    {
     "name": "stdout",
     "output_type": "stream",
     "text": [
      "Epoch 30/30, Train Loss: 0.3689, Test Loss: 0.3582\n",
      "Train AUC: 0.7110, Test AUC: 0.6468\n",
      "Epoch 10/30, Train Loss: 0.3815, Test Loss: 0.3556\n",
      "Train AUC: 0.6707, Test AUC: 0.6441\n",
      "Epoch 20/30, Train Loss: 0.3794, Test Loss: 0.3665\n",
      "Train AUC: 0.6715, Test AUC: 0.6418\n"
     ]
    },
    {
     "name": "stderr",
     "output_type": "stream",
     "text": [
      "[I 2024-04-07 18:39:12,626] Trial 11 finished with value: 0.6496094959690456 and parameters: {'dropout_rate': 0.3413719429479331, 'num_layers': 1, 'num_nodes': 128, 'lr': 0.08626466845551252}. Best is trial 11 with value: 0.6496094959690456.\n"
     ]
    },
    {
     "name": "stdout",
     "output_type": "stream",
     "text": [
      "Epoch 30/30, Train Loss: 0.3812, Test Loss: 0.3583\n",
      "Train AUC: 0.6699, Test AUC: 0.6496\n",
      "Epoch 10/30, Train Loss: 0.3759, Test Loss: 0.3604\n",
      "Train AUC: 0.6770, Test AUC: 0.6381\n",
      "Epoch 20/30, Train Loss: 0.3713, Test Loss: 0.3589\n",
      "Train AUC: 0.6933, Test AUC: 0.6372\n"
     ]
    },
    {
     "name": "stderr",
     "output_type": "stream",
     "text": [
      "[I 2024-04-07 18:39:17,114] Trial 12 finished with value: 0.6451814014585624 and parameters: {'dropout_rate': 0.29824448961901345, 'num_layers': 1, 'num_nodes': 128, 'lr': 0.014055712978872734}. Best is trial 11 with value: 0.6496094959690456.\n"
     ]
    },
    {
     "name": "stdout",
     "output_type": "stream",
     "text": [
      "Epoch 30/30, Train Loss: 0.3698, Test Loss: 0.3584\n",
      "Train AUC: 0.6957, Test AUC: 0.6452\n",
      "Epoch 10/30, Train Loss: 0.3744, Test Loss: 0.3536\n",
      "Train AUC: 0.6759, Test AUC: 0.6526\n",
      "Epoch 20/30, Train Loss: 0.3759, Test Loss: 0.3565\n",
      "Train AUC: 0.6788, Test AUC: 0.6455\n"
     ]
    },
    {
     "name": "stderr",
     "output_type": "stream",
     "text": [
      "[I 2024-04-07 18:39:22,121] Trial 13 finished with value: 0.6491796863036028 and parameters: {'dropout_rate': 0.4125083925088498, 'num_layers': 1, 'num_nodes': 128, 'lr': 0.02485200235644917}. Best is trial 11 with value: 0.6496094959690456.\n"
     ]
    },
    {
     "name": "stdout",
     "output_type": "stream",
     "text": [
      "Epoch 30/30, Train Loss: 0.3745, Test Loss: 0.3537\n",
      "Train AUC: 0.6828, Test AUC: 0.6492\n",
      "Epoch 10/30, Train Loss: 0.3795, Test Loss: 0.3595\n",
      "Train AUC: 0.7028, Test AUC: 0.6295\n",
      "Epoch 20/30, Train Loss: 0.3709, Test Loss: 0.3583\n",
      "Train AUC: 0.7105, Test AUC: 0.6354\n"
     ]
    },
    {
     "name": "stderr",
     "output_type": "stream",
     "text": [
      "[I 2024-04-07 18:39:27,017] Trial 14 finished with value: 0.6351593154353736 and parameters: {'dropout_rate': 0.42156176474735196, 'num_layers': 1, 'num_nodes': 128, 'lr': 0.0017130951398312763}. Best is trial 11 with value: 0.6496094959690456.\n"
     ]
    },
    {
     "name": "stdout",
     "output_type": "stream",
     "text": [
      "Epoch 30/30, Train Loss: 0.3677, Test Loss: 0.3587\n",
      "Train AUC: 0.7150, Test AUC: 0.6352\n",
      "Epoch 10/30, Train Loss: 0.3770, Test Loss: 0.3560\n",
      "Train AUC: 0.6743, Test AUC: 0.6566\n",
      "Epoch 20/30, Train Loss: 0.3778, Test Loss: 0.3551\n",
      "Train AUC: 0.6732, Test AUC: 0.6433\n"
     ]
    },
    {
     "name": "stderr",
     "output_type": "stream",
     "text": [
      "[I 2024-04-07 18:39:31,677] Trial 15 finished with value: 0.6383684248139363 and parameters: {'dropout_rate': 0.40716638300290514, 'num_layers': 1, 'num_nodes': 128, 'lr': 0.030360484402577277}. Best is trial 11 with value: 0.6496094959690456.\n"
     ]
    },
    {
     "name": "stdout",
     "output_type": "stream",
     "text": [
      "Epoch 30/30, Train Loss: 0.3754, Test Loss: 0.3586\n",
      "Train AUC: 0.6780, Test AUC: 0.6384\n",
      "Epoch 10/30, Train Loss: 0.3794, Test Loss: 0.3561\n",
      "Train AUC: 0.6909, Test AUC: 0.6454\n",
      "Epoch 20/30, Train Loss: 0.3714, Test Loss: 0.3553\n",
      "Train AUC: 0.6998, Test AUC: 0.6426\n"
     ]
    },
    {
     "name": "stderr",
     "output_type": "stream",
     "text": [
      "[I 2024-04-07 18:39:36,593] Trial 16 finished with value: 0.6390538061806833 and parameters: {'dropout_rate': 0.4937310361703922, 'num_layers': 1, 'num_nodes': 128, 'lr': 0.0025500281060623813}. Best is trial 11 with value: 0.6496094959690456.\n"
     ]
    },
    {
     "name": "stdout",
     "output_type": "stream",
     "text": [
      "Epoch 30/30, Train Loss: 0.3717, Test Loss: 0.3555\n",
      "Train AUC: 0.7049, Test AUC: 0.6391\n",
      "Epoch 10/30, Train Loss: 0.3762, Test Loss: 0.3556\n",
      "Train AUC: 0.6692, Test AUC: 0.6458\n",
      "Epoch 20/30, Train Loss: 0.3747, Test Loss: 0.3560\n",
      "Train AUC: 0.6841, Test AUC: 0.6500\n"
     ]
    },
    {
     "name": "stderr",
     "output_type": "stream",
     "text": [
      "[I 2024-04-07 18:39:42,307] Trial 17 finished with value: 0.6463860936324872 and parameters: {'dropout_rate': 0.31937803450155666, 'num_layers': 2, 'num_nodes': 128, 'lr': 0.038251024139097825}. Best is trial 11 with value: 0.6496094959690456.\n"
     ]
    },
    {
     "name": "stdout",
     "output_type": "stream",
     "text": [
      "Epoch 30/30, Train Loss: 0.3730, Test Loss: 0.3550\n",
      "Train AUC: 0.6860, Test AUC: 0.6464\n",
      "Epoch 10/30, Train Loss: 0.3812, Test Loss: 0.3552\n",
      "Train AUC: 0.6774, Test AUC: 0.6485\n",
      "Epoch 20/30, Train Loss: 0.3758, Test Loss: 0.3543\n",
      "Train AUC: 0.6862, Test AUC: 0.6452\n"
     ]
    },
    {
     "name": "stderr",
     "output_type": "stream",
     "text": [
      "[I 2024-04-07 18:39:48,250] Trial 18 finished with value: 0.6420961643826293 and parameters: {'dropout_rate': 0.450937243074645, 'num_layers': 2, 'num_nodes': 64, 'lr': 0.004738084592982398}. Best is trial 11 with value: 0.6496094959690456.\n"
     ]
    },
    {
     "name": "stdout",
     "output_type": "stream",
     "text": [
      "Epoch 30/30, Train Loss: 0.3753, Test Loss: 0.3561\n",
      "Train AUC: 0.6895, Test AUC: 0.6421\n",
      "Epoch 10/30, Train Loss: 0.3757, Test Loss: 0.3606\n",
      "Train AUC: 0.6760, Test AUC: 0.6417\n",
      "Epoch 20/30, Train Loss: 0.3730, Test Loss: 0.3608\n",
      "Train AUC: 0.6885, Test AUC: 0.6357\n"
     ]
    },
    {
     "name": "stderr",
     "output_type": "stream",
     "text": [
      "[I 2024-04-07 18:39:52,962] Trial 19 finished with value: 0.6406576802529172 and parameters: {'dropout_rate': 0.36595116472700323, 'num_layers': 1, 'num_nodes': 128, 'lr': 0.01321221216980249}. Best is trial 11 with value: 0.6496094959690456.\n"
     ]
    },
    {
     "name": "stdout",
     "output_type": "stream",
     "text": [
      "Epoch 30/30, Train Loss: 0.3695, Test Loss: 0.3570\n",
      "Train AUC: 0.6954, Test AUC: 0.6407\n",
      "Epoch 10/30, Train Loss: 0.3751, Test Loss: 0.3552\n",
      "Train AUC: 0.6733, Test AUC: 0.6458\n",
      "Epoch 20/30, Train Loss: 0.3768, Test Loss: 0.3539\n",
      "Train AUC: 0.6777, Test AUC: 0.6488\n"
     ]
    },
    {
     "name": "stderr",
     "output_type": "stream",
     "text": [
      "[I 2024-04-07 18:39:57,975] Trial 20 finished with value: 0.6338477663850046 and parameters: {'dropout_rate': 0.21411014141144902, 'num_layers': 1, 'num_nodes': 128, 'lr': 0.04916672070480866}. Best is trial 11 with value: 0.6496094959690456.\n"
     ]
    },
    {
     "name": "stdout",
     "output_type": "stream",
     "text": [
      "Epoch 30/30, Train Loss: 0.3757, Test Loss: 0.3567\n",
      "Train AUC: 0.6690, Test AUC: 0.6338\n",
      "Epoch 10/30, Train Loss: 0.3770, Test Loss: 0.3603\n",
      "Train AUC: 0.6696, Test AUC: 0.6404\n",
      "Epoch 20/30, Train Loss: 0.3722, Test Loss: 0.3556\n",
      "Train AUC: 0.6931, Test AUC: 0.6465\n"
     ]
    },
    {
     "name": "stderr",
     "output_type": "stream",
     "text": [
      "[I 2024-04-07 18:40:03,873] Trial 21 finished with value: 0.6503442220717301 and parameters: {'dropout_rate': 0.3190506551950377, 'num_layers': 2, 'num_nodes': 128, 'lr': 0.024669433986497444}. Best is trial 21 with value: 0.6503442220717301.\n"
     ]
    },
    {
     "name": "stdout",
     "output_type": "stream",
     "text": [
      "Epoch 30/30, Train Loss: 0.3711, Test Loss: 0.3585\n",
      "Train AUC: 0.6956, Test AUC: 0.6503\n",
      "Epoch 10/30, Train Loss: 0.3759, Test Loss: 0.3550\n",
      "Train AUC: 0.6796, Test AUC: 0.6475\n",
      "Epoch 20/30, Train Loss: 0.3724, Test Loss: 0.3571\n",
      "Train AUC: 0.6878, Test AUC: 0.6466\n"
     ]
    },
    {
     "name": "stderr",
     "output_type": "stream",
     "text": [
      "[I 2024-04-07 18:40:09,695] Trial 22 finished with value: 0.6401737615322051 and parameters: {'dropout_rate': 0.31647826372877935, 'num_layers': 2, 'num_nodes': 128, 'lr': 0.020926194773112868}. Best is trial 21 with value: 0.6503442220717301.\n"
     ]
    },
    {
     "name": "stdout",
     "output_type": "stream",
     "text": [
      "Epoch 30/30, Train Loss: 0.3716, Test Loss: 0.3580\n",
      "Train AUC: 0.6996, Test AUC: 0.6402\n",
      "Epoch 10/30, Train Loss: 0.3762, Test Loss: 0.3552\n",
      "Train AUC: 0.6767, Test AUC: 0.6504\n",
      "Epoch 20/30, Train Loss: 0.3774, Test Loss: 0.3556\n",
      "Train AUC: 0.6823, Test AUC: 0.6509\n"
     ]
    },
    {
     "name": "stderr",
     "output_type": "stream",
     "text": [
      "[I 2024-04-07 18:40:15,465] Trial 23 finished with value: 0.6460941089191461 and parameters: {'dropout_rate': 0.28542389241045946, 'num_layers': 2, 'num_nodes': 128, 'lr': 0.06268705009934324}. Best is trial 21 with value: 0.6503442220717301.\n"
     ]
    },
    {
     "name": "stdout",
     "output_type": "stream",
     "text": [
      "Epoch 30/30, Train Loss: 0.3747, Test Loss: 0.3600\n",
      "Train AUC: 0.6905, Test AUC: 0.6461\n",
      "Epoch 10/30, Train Loss: 0.3764, Test Loss: 0.3577\n",
      "Train AUC: 0.6799, Test AUC: 0.6451\n",
      "Epoch 20/30, Train Loss: 0.3738, Test Loss: 0.3560\n",
      "Train AUC: 0.6883, Test AUC: 0.6427\n"
     ]
    },
    {
     "name": "stderr",
     "output_type": "stream",
     "text": [
      "[I 2024-04-07 18:40:20,295] Trial 24 finished with value: 0.6401941800436275 and parameters: {'dropout_rate': 0.34447764013091, 'num_layers': 1, 'num_nodes': 128, 'lr': 0.013210839828129112}. Best is trial 21 with value: 0.6503442220717301.\n"
     ]
    },
    {
     "name": "stdout",
     "output_type": "stream",
     "text": [
      "Epoch 30/30, Train Loss: 0.3705, Test Loss: 0.3569\n",
      "Train AUC: 0.6948, Test AUC: 0.6402\n",
      "Epoch 10/30, Train Loss: 0.3741, Test Loss: 0.3573\n",
      "Train AUC: 0.6919, Test AUC: 0.6414\n",
      "Epoch 20/30, Train Loss: 0.3711, Test Loss: 0.3577\n",
      "Train AUC: 0.7019, Test AUC: 0.6460\n"
     ]
    },
    {
     "name": "stderr",
     "output_type": "stream",
     "text": [
      "[I 2024-04-07 18:40:24,936] Trial 25 finished with value: 0.6353954895508267 and parameters: {'dropout_rate': 0.40869831552569486, 'num_layers': 1, 'num_nodes': 128, 'lr': 0.004239376299238975}. Best is trial 21 with value: 0.6503442220717301.\n"
     ]
    },
    {
     "name": "stdout",
     "output_type": "stream",
     "text": [
      "Epoch 30/30, Train Loss: 0.3683, Test Loss: 0.3577\n",
      "Train AUC: 0.7124, Test AUC: 0.6354\n",
      "Epoch 10/30, Train Loss: 0.3935, Test Loss: 0.3593\n",
      "Train AUC: 0.6738, Test AUC: 0.6254\n",
      "Epoch 20/30, Train Loss: 0.3832, Test Loss: 0.3581\n",
      "Train AUC: 0.6851, Test AUC: 0.6361\n"
     ]
    },
    {
     "name": "stderr",
     "output_type": "stream",
     "text": [
      "[I 2024-04-07 18:40:30,802] Trial 26 finished with value: 0.6478058607933953 and parameters: {'dropout_rate': 0.4463204878650475, 'num_layers': 2, 'num_nodes': 64, 'lr': 0.0012888490451183935}. Best is trial 21 with value: 0.6503442220717301.\n"
     ]
    },
    {
     "name": "stdout",
     "output_type": "stream",
     "text": [
      "Epoch 30/30, Train Loss: 0.3781, Test Loss: 0.3559\n",
      "Train AUC: 0.6939, Test AUC: 0.6478\n",
      "Epoch 10/30, Train Loss: 0.3965, Test Loss: 0.3607\n",
      "Train AUC: 0.6846, Test AUC: 0.6313\n",
      "Epoch 20/30, Train Loss: 0.3813, Test Loss: 0.3587\n",
      "Train AUC: 0.7016, Test AUC: 0.6355\n"
     ]
    },
    {
     "name": "stderr",
     "output_type": "stream",
     "text": [
      "[I 2024-04-07 18:40:35,571] Trial 27 finished with value: 0.6356697782209351 and parameters: {'dropout_rate': 0.38001445883108204, 'num_layers': 1, 'num_nodes': 128, 'lr': 0.000645669478818793}. Best is trial 21 with value: 0.6503442220717301.\n"
     ]
    },
    {
     "name": "stdout",
     "output_type": "stream",
     "text": [
      "Epoch 30/30, Train Loss: 0.3744, Test Loss: 0.3585\n",
      "Train AUC: 0.7080, Test AUC: 0.6357\n",
      "Epoch 10/30, Train Loss: 0.3752, Test Loss: 0.3546\n",
      "Train AUC: 0.6793, Test AUC: 0.6473\n",
      "Epoch 20/30, Train Loss: 0.3736, Test Loss: 0.3581\n",
      "Train AUC: 0.6919, Test AUC: 0.6407\n"
     ]
    },
    {
     "name": "stderr",
     "output_type": "stream",
     "text": [
      "[I 2024-04-07 18:40:41,017] Trial 28 finished with value: 0.6379525677979656 and parameters: {'dropout_rate': 0.33944124033739176, 'num_layers': 2, 'num_nodes': 128, 'lr': 0.01846742468244038}. Best is trial 21 with value: 0.6503442220717301.\n"
     ]
    },
    {
     "name": "stdout",
     "output_type": "stream",
     "text": [
      "Epoch 30/30, Train Loss: 0.3727, Test Loss: 0.3585\n",
      "Train AUC: 0.6997, Test AUC: 0.6380\n",
      "Epoch 10/30, Train Loss: 0.3790, Test Loss: 0.3661\n",
      "Train AUC: 0.6685, Test AUC: 0.6456\n",
      "Epoch 20/30, Train Loss: 0.3753, Test Loss: 0.3542\n",
      "Train AUC: 0.6761, Test AUC: 0.6483\n"
     ]
    },
    {
     "name": "stderr",
     "output_type": "stream",
     "text": [
      "[I 2024-04-07 18:40:46,017] Trial 29 finished with value: 0.6477936096865418 and parameters: {'dropout_rate': 0.2731479722399086, 'num_layers': 1, 'num_nodes': 64, 'lr': 0.054006223768597275}. Best is trial 21 with value: 0.6503442220717301.\n"
     ]
    },
    {
     "name": "stdout",
     "output_type": "stream",
     "text": [
      "Epoch 30/30, Train Loss: 0.3752, Test Loss: 0.3551\n",
      "Train AUC: 0.6768, Test AUC: 0.6478\n",
      "Epoch 10/30, Train Loss: 0.6352, Test Loss: 0.5656\n",
      "Train AUC: 0.6478, Test AUC: 0.6389\n",
      "Epoch 20/30, Train Loss: 0.5858, Test Loss: 0.5214\n",
      "Train AUC: 0.6604, Test AUC: 0.6426\n"
     ]
    },
    {
     "name": "stderr",
     "output_type": "stream",
     "text": [
      "[I 2024-04-07 18:40:52,396] Trial 30 finished with value: 0.6396772513961158 and parameters: {'dropout_rate': 0.4603422180809371, 'num_layers': 2, 'num_nodes': 128, 'lr': 8.505182727654417e-05}. Best is trial 21 with value: 0.6503442220717301.\n"
     ]
    },
    {
     "name": "stdout",
     "output_type": "stream",
     "text": [
      "Epoch 30/30, Train Loss: 0.5196, Test Loss: 0.4591\n",
      "Train AUC: 0.6675, Test AUC: 0.6397\n",
      "Epoch 10/30, Train Loss: 0.3784, Test Loss: 0.3541\n",
      "Train AUC: 0.6779, Test AUC: 0.6492\n",
      "Epoch 20/30, Train Loss: 0.3740, Test Loss: 0.3559\n",
      "Train AUC: 0.6825, Test AUC: 0.6411\n"
     ]
    },
    {
     "name": "stderr",
     "output_type": "stream",
     "text": [
      "[I 2024-04-07 18:40:59,166] Trial 31 finished with value: 0.6420920806803447 and parameters: {'dropout_rate': 0.3218823672198697, 'num_layers': 3, 'num_nodes': 128, 'lr': 0.025302321048390926}. Best is trial 21 with value: 0.6503442220717301.\n"
     ]
    },
    {
     "name": "stdout",
     "output_type": "stream",
     "text": [
      "Epoch 30/30, Train Loss: 0.3715, Test Loss: 0.3581\n",
      "Train AUC: 0.6981, Test AUC: 0.6421\n",
      "Epoch 10/30, Train Loss: 0.3764, Test Loss: 0.3594\n",
      "Train AUC: 0.6877, Test AUC: 0.6442\n",
      "Epoch 20/30, Train Loss: 0.3714, Test Loss: 0.3601\n",
      "Train AUC: 0.7030, Test AUC: 0.6395\n"
     ]
    },
    {
     "name": "stderr",
     "output_type": "stream",
     "text": [
      "[I 2024-04-07 18:41:06,290] Trial 32 finished with value: 0.6324395697139026 and parameters: {'dropout_rate': 0.26141861155407836, 'num_layers': 3, 'num_nodes': 128, 'lr': 0.009160399426258022}. Best is trial 21 with value: 0.6503442220717301.\n"
     ]
    },
    {
     "name": "stdout",
     "output_type": "stream",
     "text": [
      "Epoch 30/30, Train Loss: 0.3670, Test Loss: 0.3605\n",
      "Train AUC: 0.7191, Test AUC: 0.6324\n",
      "Epoch 10/30, Train Loss: 0.3791, Test Loss: 0.3560\n",
      "Train AUC: 0.6780, Test AUC: 0.6469\n",
      "Epoch 20/30, Train Loss: 0.3737, Test Loss: 0.3570\n",
      "Train AUC: 0.6925, Test AUC: 0.6432\n"
     ]
    },
    {
     "name": "stderr",
     "output_type": "stream",
     "text": [
      "[I 2024-04-07 18:41:13,684] Trial 33 finished with value: 0.6434213257739467 and parameters: {'dropout_rate': 0.304019660099748, 'num_layers': 3, 'num_nodes': 128, 'lr': 0.033373043340196216}. Best is trial 21 with value: 0.6503442220717301.\n"
     ]
    },
    {
     "name": "stdout",
     "output_type": "stream",
     "text": [
      "Epoch 30/30, Train Loss: 0.3716, Test Loss: 0.3623\n",
      "Train AUC: 0.6992, Test AUC: 0.6434\n",
      "Epoch 10/30, Train Loss: 0.3805, Test Loss: 0.3539\n",
      "Train AUC: 0.6715, Test AUC: 0.6496\n",
      "Epoch 20/30, Train Loss: 0.3778, Test Loss: 0.3557\n",
      "Train AUC: 0.6797, Test AUC: 0.6460\n"
     ]
    },
    {
     "name": "stderr",
     "output_type": "stream",
     "text": [
      "[I 2024-04-07 18:41:20,696] Trial 34 finished with value: 0.6520726490636412 and parameters: {'dropout_rate': 0.3984918873984537, 'num_layers': 3, 'num_nodes': 128, 'lr': 0.07894191631591979}. Best is trial 34 with value: 0.6520726490636412.\n"
     ]
    },
    {
     "name": "stdout",
     "output_type": "stream",
     "text": [
      "Epoch 30/30, Train Loss: 0.3796, Test Loss: 0.3558\n",
      "Train AUC: 0.6865, Test AUC: 0.6521\n",
      "Epoch 10/30, Train Loss: 0.3813, Test Loss: 0.3584\n",
      "Train AUC: 0.6681, Test AUC: 0.6534\n",
      "Epoch 20/30, Train Loss: 0.3807, Test Loss: 0.3625\n",
      "Train AUC: 0.6731, Test AUC: 0.6504\n"
     ]
    },
    {
     "name": "stderr",
     "output_type": "stream",
     "text": [
      "[I 2024-04-07 18:41:27,429] Trial 35 finished with value: 0.6510153104804816 and parameters: {'dropout_rate': 0.4024238926898919, 'num_layers': 3, 'num_nodes': 128, 'lr': 0.09723652938748135}. Best is trial 34 with value: 0.6520726490636412.\n"
     ]
    },
    {
     "name": "stdout",
     "output_type": "stream",
     "text": [
      "Epoch 30/30, Train Loss: 0.3799, Test Loss: 0.3564\n",
      "Train AUC: 0.6801, Test AUC: 0.6510\n",
      "Epoch 10/30, Train Loss: 0.3821, Test Loss: 0.3549\n",
      "Train AUC: 0.6684, Test AUC: 0.6469\n",
      "Epoch 20/30, Train Loss: 0.3818, Test Loss: 0.3555\n",
      "Train AUC: 0.6744, Test AUC: 0.6487\n"
     ]
    },
    {
     "name": "stderr",
     "output_type": "stream",
     "text": [
      "[I 2024-04-07 18:41:34,258] Trial 36 finished with value: 0.6562189681164945 and parameters: {'dropout_rate': 0.3771820741075653, 'num_layers': 3, 'num_nodes': 128, 'lr': 0.09479212683766614}. Best is trial 36 with value: 0.6562189681164945.\n"
     ]
    },
    {
     "name": "stdout",
     "output_type": "stream",
     "text": [
      "Epoch 30/30, Train Loss: 0.3798, Test Loss: 0.3561\n",
      "Train AUC: 0.6833, Test AUC: 0.6562\n",
      "Epoch 10/30, Train Loss: 0.7097, Test Loss: 0.6525\n",
      "Train AUC: 0.5769, Test AUC: 0.5762\n",
      "Epoch 20/30, Train Loss: 0.6985, Test Loss: 0.6454\n",
      "Train AUC: 0.6036, Test AUC: 0.5873\n"
     ]
    },
    {
     "name": "stderr",
     "output_type": "stream",
     "text": [
      "[I 2024-04-07 18:41:41,690] Trial 37 finished with value: 0.594591816941239 and parameters: {'dropout_rate': 0.3854023353435525, 'num_layers': 3, 'num_nodes': 128, 'lr': 1.0484108368404789e-05}. Best is trial 36 with value: 0.6562189681164945.\n"
     ]
    },
    {
     "name": "stdout",
     "output_type": "stream",
     "text": [
      "Epoch 30/30, Train Loss: 0.6917, Test Loss: 0.6370\n",
      "Train AUC: 0.6194, Test AUC: 0.5946\n",
      "Epoch 10/30, Train Loss: 0.3822, Test Loss: 0.3549\n",
      "Train AUC: 0.6650, Test AUC: 0.6449\n",
      "Epoch 20/30, Train Loss: 0.3805, Test Loss: 0.3593\n",
      "Train AUC: 0.6729, Test AUC: 0.6452\n"
     ]
    },
    {
     "name": "stderr",
     "output_type": "stream",
     "text": [
      "[I 2024-04-07 18:41:47,412] Trial 38 finished with value: 0.6544833946455857 and parameters: {'dropout_rate': 0.43114849315819653, 'num_layers': 3, 'num_nodes': 64, 'lr': 0.09883918946769235}. Best is trial 36 with value: 0.6562189681164945.\n"
     ]
    },
    {
     "name": "stdout",
     "output_type": "stream",
     "text": [
      "Epoch 30/30, Train Loss: 0.3797, Test Loss: 0.3571\n",
      "Train AUC: 0.6752, Test AUC: 0.6545\n",
      "Epoch 10/30, Train Loss: 0.3828, Test Loss: 0.3557\n",
      "Train AUC: 0.6631, Test AUC: 0.6441\n",
      "Epoch 20/30, Train Loss: 0.3801, Test Loss: 0.3545\n",
      "Train AUC: 0.6685, Test AUC: 0.6481\n"
     ]
    },
    {
     "name": "stderr",
     "output_type": "stream",
     "text": [
      "[I 2024-04-07 18:41:53,565] Trial 39 finished with value: 0.648594015334302 and parameters: {'dropout_rate': 0.4746804182753436, 'num_layers': 3, 'num_nodes': 64, 'lr': 0.09854982084692276}. Best is trial 36 with value: 0.6562189681164945.\n"
     ]
    },
    {
     "name": "stdout",
     "output_type": "stream",
     "text": [
      "Epoch 30/30, Train Loss: 0.3815, Test Loss: 0.3558\n",
      "Train AUC: 0.6749, Test AUC: 0.6486\n",
      "Epoch 10/30, Train Loss: 0.3764, Test Loss: 0.3552\n",
      "Train AUC: 0.6762, Test AUC: 0.6485\n",
      "Epoch 20/30, Train Loss: 0.3708, Test Loss: 0.3559\n",
      "Train AUC: 0.6877, Test AUC: 0.6400\n"
     ]
    },
    {
     "name": "stderr",
     "output_type": "stream",
     "text": [
      "[I 2024-04-07 18:42:00,179] Trial 40 finished with value: 0.634940156746106 and parameters: {'dropout_rate': 0.11119507027593073, 'num_layers': 3, 'num_nodes': 64, 'lr': 0.061897216143151926}. Best is trial 36 with value: 0.6562189681164945.\n"
     ]
    },
    {
     "name": "stdout",
     "output_type": "stream",
     "text": [
      "Epoch 30/30, Train Loss: 0.3694, Test Loss: 0.3587\n",
      "Train AUC: 0.7035, Test AUC: 0.6349\n",
      "Epoch 10/30, Train Loss: 0.3796, Test Loss: 0.3574\n",
      "Train AUC: 0.6686, Test AUC: 0.6532\n",
      "Epoch 20/30, Train Loss: 0.3790, Test Loss: 0.3564\n",
      "Train AUC: 0.6775, Test AUC: 0.6545\n"
     ]
    },
    {
     "name": "stderr",
     "output_type": "stream",
     "text": [
      "[I 2024-04-07 18:42:06,491] Trial 41 finished with value: 0.6450017185580448 and parameters: {'dropout_rate': 0.39083244756288316, 'num_layers': 3, 'num_nodes': 64, 'lr': 0.05946655030256573}. Best is trial 36 with value: 0.6562189681164945.\n"
     ]
    },
    {
     "name": "stdout",
     "output_type": "stream",
     "text": [
      "Epoch 30/30, Train Loss: 0.3771, Test Loss: 0.3549\n",
      "Train AUC: 0.6809, Test AUC: 0.6450\n",
      "Epoch 10/30, Train Loss: 0.3808, Test Loss: 0.3559\n",
      "Train AUC: 0.6669, Test AUC: 0.6475\n",
      "Epoch 20/30, Train Loss: 0.3803, Test Loss: 0.3562\n",
      "Train AUC: 0.6696, Test AUC: 0.6532\n"
     ]
    },
    {
     "name": "stderr",
     "output_type": "stream",
     "text": [
      "[I 2024-04-07 18:42:12,509] Trial 42 finished with value: 0.6491419120574713 and parameters: {'dropout_rate': 0.4333208433010505, 'num_layers': 3, 'num_nodes': 64, 'lr': 0.08755311883644758}. Best is trial 36 with value: 0.6562189681164945.\n"
     ]
    },
    {
     "name": "stdout",
     "output_type": "stream",
     "text": [
      "Epoch 30/30, Train Loss: 0.3794, Test Loss: 0.3616\n",
      "Train AUC: 0.6790, Test AUC: 0.6491\n",
      "Epoch 10/30, Train Loss: 0.3780, Test Loss: 0.3547\n",
      "Train AUC: 0.6700, Test AUC: 0.6498\n",
      "Epoch 20/30, Train Loss: 0.3752, Test Loss: 0.3533\n",
      "Train AUC: 0.6815, Test AUC: 0.6524\n"
     ]
    },
    {
     "name": "stderr",
     "output_type": "stream",
     "text": [
      "[I 2024-04-07 18:42:18,881] Trial 43 finished with value: 0.6522468870277793 and parameters: {'dropout_rate': 0.3677178078256438, 'num_layers': 3, 'num_nodes': 64, 'lr': 0.03771308972162259}. Best is trial 36 with value: 0.6562189681164945.\n"
     ]
    },
    {
     "name": "stdout",
     "output_type": "stream",
     "text": [
      "Epoch 30/30, Train Loss: 0.3761, Test Loss: 0.3563\n",
      "Train AUC: 0.6897, Test AUC: 0.6522\n",
      "Epoch 10/30, Train Loss: 0.3804, Test Loss: 0.3559\n",
      "Train AUC: 0.6641, Test AUC: 0.6453\n",
      "Epoch 20/30, Train Loss: 0.3802, Test Loss: 0.3535\n",
      "Train AUC: 0.6700, Test AUC: 0.6529\n"
     ]
    },
    {
     "name": "stderr",
     "output_type": "stream",
     "text": [
      "[I 2024-04-07 18:42:24,770] Trial 44 finished with value: 0.6518109518089099 and parameters: {'dropout_rate': 0.4328823915147901, 'num_layers': 3, 'num_nodes': 64, 'lr': 0.05999505461304659}. Best is trial 36 with value: 0.6562189681164945.\n"
     ]
    },
    {
     "name": "stdout",
     "output_type": "stream",
     "text": [
      "Epoch 30/30, Train Loss: 0.3781, Test Loss: 0.3537\n",
      "Train AUC: 0.6734, Test AUC: 0.6518\n",
      "Epoch 10/30, Train Loss: 0.3800, Test Loss: 0.3543\n",
      "Train AUC: 0.6732, Test AUC: 0.6524\n",
      "Epoch 20/30, Train Loss: 0.3790, Test Loss: 0.3549\n",
      "Train AUC: 0.6746, Test AUC: 0.6461\n"
     ]
    },
    {
     "name": "stderr",
     "output_type": "stream",
     "text": [
      "[I 2024-04-07 18:42:30,461] Trial 45 finished with value: 0.6530683918040094 and parameters: {'dropout_rate': 0.4278311280401636, 'num_layers': 3, 'num_nodes': 64, 'lr': 0.03809326044922076}. Best is trial 36 with value: 0.6562189681164945.\n"
     ]
    },
    {
     "name": "stdout",
     "output_type": "stream",
     "text": [
      "Epoch 30/30, Train Loss: 0.3765, Test Loss: 0.3517\n",
      "Train AUC: 0.6803, Test AUC: 0.6531\n",
      "Epoch 10/30, Train Loss: 0.3794, Test Loss: 0.3523\n",
      "Train AUC: 0.6692, Test AUC: 0.6535\n",
      "Epoch 20/30, Train Loss: 0.3773, Test Loss: 0.3565\n",
      "Train AUC: 0.6812, Test AUC: 0.6529\n"
     ]
    },
    {
     "name": "stderr",
     "output_type": "stream",
     "text": [
      "[I 2024-04-07 18:42:36,607] Trial 46 finished with value: 0.650147864053551 and parameters: {'dropout_rate': 0.3653612418277548, 'num_layers': 3, 'num_nodes': 64, 'lr': 0.04042201494194838}. Best is trial 36 with value: 0.6562189681164945.\n"
     ]
    },
    {
     "name": "stdout",
     "output_type": "stream",
     "text": [
      "Epoch 30/30, Train Loss: 0.3779, Test Loss: 0.3545\n",
      "Train AUC: 0.6827, Test AUC: 0.6501\n",
      "Epoch 10/30, Train Loss: 0.3791, Test Loss: 0.3543\n",
      "Train AUC: 0.6715, Test AUC: 0.6496\n",
      "Epoch 20/30, Train Loss: 0.3760, Test Loss: 0.3542\n",
      "Train AUC: 0.6808, Test AUC: 0.6469\n"
     ]
    },
    {
     "name": "stderr",
     "output_type": "stream",
     "text": [
      "[I 2024-04-07 18:42:43,028] Trial 47 finished with value: 0.6428291889426954 and parameters: {'dropout_rate': 0.42220843312295453, 'num_layers': 3, 'num_nodes': 64, 'lr': 0.007703308401556946}. Best is trial 36 with value: 0.6562189681164945.\n"
     ]
    },
    {
     "name": "stdout",
     "output_type": "stream",
     "text": [
      "Epoch 30/30, Train Loss: 0.3752, Test Loss: 0.3554\n",
      "Train AUC: 0.6836, Test AUC: 0.6428\n",
      "Epoch 10/30, Train Loss: 0.3786, Test Loss: 0.3536\n",
      "Train AUC: 0.6683, Test AUC: 0.6480\n",
      "Epoch 20/30, Train Loss: 0.3779, Test Loss: 0.3550\n",
      "Train AUC: 0.6752, Test AUC: 0.6478\n"
     ]
    },
    {
     "name": "stderr",
     "output_type": "stream",
     "text": [
      "[I 2024-04-07 18:42:49,123] Trial 48 finished with value: 0.6495509629029678 and parameters: {'dropout_rate': 0.47355167809059395, 'num_layers': 3, 'num_nodes': 64, 'lr': 0.018099364910022012}. Best is trial 36 with value: 0.6562189681164945.\n"
     ]
    },
    {
     "name": "stdout",
     "output_type": "stream",
     "text": [
      "Epoch 30/30, Train Loss: 0.3773, Test Loss: 0.3563\n",
      "Train AUC: 0.6834, Test AUC: 0.6496\n",
      "Epoch 10/30, Train Loss: 0.3791, Test Loss: 0.3536\n",
      "Train AUC: 0.6734, Test AUC: 0.6524\n",
      "Epoch 20/30, Train Loss: 0.3769, Test Loss: 0.3526\n",
      "Train AUC: 0.6785, Test AUC: 0.6501\n"
     ]
    },
    {
     "name": "stderr",
     "output_type": "stream",
     "text": [
      "[I 2024-04-07 18:42:55,430] Trial 49 finished with value: 0.6463030583527027 and parameters: {'dropout_rate': 0.3739421094734833, 'num_layers': 3, 'num_nodes': 64, 'lr': 0.03786344221648208}. Best is trial 36 with value: 0.6562189681164945.\n"
     ]
    },
    {
     "name": "stdout",
     "output_type": "stream",
     "text": [
      "Epoch 30/30, Train Loss: 0.3745, Test Loss: 0.3552\n",
      "Train AUC: 0.6808, Test AUC: 0.6463\n",
      "Best trial:\n",
      "  Value:  0.6562189681164945\n",
      "  Params: \n",
      "    dropout_rate: 0.3771820741075653\n",
      "    num_layers: 3\n",
      "    num_nodes: 128\n",
      "    lr: 0.09479212683766614\n"
     ]
    }
   ],
   "source": [
    "import optuna\n",
    "\n",
    "study = optuna.create_study(direction='maximize')\n",
    "study.optimize(objective, n_trials=50)\n",
    "\n",
    "# Display the best trial results\n",
    "print(\"Best trial:\")\n",
    "trial = study.best_trial\n",
    "print(\"  Value: \", trial.value)\n",
    "print(\"  Params: \")\n",
    "for key, value in trial.params.items():\n",
    "    print(f\"    {key}: {value}\")\n"
   ]
  },
  {
   "cell_type": "markdown",
   "id": "ac34feed-103a-4ff6-8f79-e7fedfc2197b",
   "metadata": {},
   "source": [
    "### Now lets use the hyperparameters suggested by Optuna to improve the model performance"
   ]
  },
  {
   "cell_type": "code",
   "execution_count": 75,
   "id": "c5eee0bc-74e3-4ad2-a0cb-8118df84f3ed",
   "metadata": {},
   "outputs": [],
   "source": [
    "# Optuna best trial hyperparameters\n",
    "# The folloowing hyperparamters is from one of the runs, \n",
    "# and works well(train and test losses do not diverge much across training epochs)\n",
    "# dropout_rate = 0.3771820741075653\n",
    "# num_layers = 3\n",
    "# num_nodes = 128\n",
    "# lr = 0.09479212683766614\n",
    "\n",
    "dropout_rate = trial.params['dropout_rate']\n",
    "num_layers = trial.params['num_layers']    # Number of layers we want in model\n",
    "num_nodes = trial.params['num_nodes']      # Max Number of neurons we want in our model\n",
    "lr = trial.params['lr']\n",
    "\n",
    "\n",
    "num_features = train_x.shape[1]  \n",
    "num_classes = 1  # For binary classification\n",
    "\n",
    "# Initialize model with best hyperparameters\n",
    "model = BinaryClassifierDropoutOptuna(num_features=num_features, num_classes=num_classes, \n",
    "                                 dropout_rate=dropout_rate, num_layers=num_layers, num_nodes=num_nodes).to(device)\n"
   ]
  },
  {
   "cell_type": "code",
   "execution_count": 76,
   "id": "bb941e09-7b7f-4002-bd1a-187a9caa9184",
   "metadata": {},
   "outputs": [
    {
     "name": "stdout",
     "output_type": "stream",
     "text": [
      "Epoch 10/200, Train Loss: 0.3800, Test Loss: 0.3551\n",
      "Train AUC: 0.6710, Test AUC: 0.6537\n",
      "Epoch 20/200, Train Loss: 0.3766, Test Loss: 0.3534\n",
      "Train AUC: 0.6788, Test AUC: 0.6557\n",
      "Epoch 30/200, Train Loss: 0.3806, Test Loss: 0.3535\n",
      "Train AUC: 0.6807, Test AUC: 0.6481\n",
      "Epoch 40/200, Train Loss: 0.3778, Test Loss: 0.3558\n",
      "Train AUC: 0.6856, Test AUC: 0.6506\n",
      "Epoch 50/200, Train Loss: 0.3771, Test Loss: 0.3522\n",
      "Train AUC: 0.6919, Test AUC: 0.6528\n",
      "Epoch 60/200, Train Loss: 0.3751, Test Loss: 0.3576\n",
      "Train AUC: 0.6917, Test AUC: 0.6453\n",
      "Epoch 70/200, Train Loss: 0.3743, Test Loss: 0.3546\n",
      "Train AUC: 0.7047, Test AUC: 0.6513\n",
      "Epoch 80/200, Train Loss: 0.3749, Test Loss: 0.3580\n",
      "Train AUC: 0.7009, Test AUC: 0.6439\n",
      "Epoch 90/200, Train Loss: 0.3728, Test Loss: 0.3603\n",
      "Train AUC: 0.7087, Test AUC: 0.6456\n",
      "Epoch 100/200, Train Loss: 0.3756, Test Loss: 0.3656\n",
      "Train AUC: 0.7146, Test AUC: 0.6430\n",
      "Epoch 110/200, Train Loss: 0.3704, Test Loss: 0.3658\n",
      "Train AUC: 0.7224, Test AUC: 0.6385\n",
      "Epoch 120/200, Train Loss: 0.3733, Test Loss: 0.3660\n",
      "Train AUC: 0.7162, Test AUC: 0.6445\n",
      "Epoch 130/200, Train Loss: 0.3710, Test Loss: 0.3683\n",
      "Train AUC: 0.7191, Test AUC: 0.6455\n",
      "Epoch 140/200, Train Loss: 0.3767, Test Loss: 0.3668\n",
      "Train AUC: 0.7240, Test AUC: 0.6419\n",
      "Epoch 150/200, Train Loss: 0.3670, Test Loss: 0.3588\n",
      "Train AUC: 0.7282, Test AUC: 0.6459\n",
      "Epoch 160/200, Train Loss: 0.3705, Test Loss: 0.3606\n",
      "Train AUC: 0.7287, Test AUC: 0.6419\n",
      "Epoch 170/200, Train Loss: 0.3650, Test Loss: 0.3602\n",
      "Train AUC: 0.7351, Test AUC: 0.6423\n",
      "Epoch 180/200, Train Loss: 0.3652, Test Loss: 0.3702\n",
      "Train AUC: 0.7376, Test AUC: 0.6383\n",
      "Epoch 190/200, Train Loss: 0.3633, Test Loss: 0.3915\n",
      "Train AUC: 0.7376, Test AUC: 0.6374\n",
      "Epoch 200/200, Train Loss: 0.3819, Test Loss: 0.4534\n",
      "Train AUC: 0.7371, Test AUC: 0.6412\n"
     ]
    },
    {
     "data": {
      "image/png": "[encoded data removed]",
      "text/plain": [
       "<Figure size 640x480 with 1 Axes>"
      ]
     },
     "metadata": {},
     "output_type": "display_data"
    }
   ],
   "source": [
    "optimizer = optim.Adam(model.parameters(), lr=lr)\n",
    "\n",
    "epochs = 200  # Try the hyerparameters suggested by Optuna with higher number of epochs\n",
    "\n",
    "train_auc, test_auc = train_and_evaluate_model_optuna(model, optimizer, epochs=epochs, print_every=10, show_plot=True)\n"
   ]
  },
  {
   "cell_type": "code",
   "execution_count": null,
   "id": "f7575f7b-0de1-4019-b383-23c190d5762e",
   "metadata": {},
   "outputs": [],
   "source": []
  },
  {
   "cell_type": "code",
   "execution_count": null,
   "id": "cfebad78-9bd7-4b64-b042-adb1cf517ff9",
   "metadata": {},
   "outputs": [],
   "source": []
  },
  {
   "cell_type": "markdown",
   "id": "8a85265b-e6fe-4c9b-8d35-4fcb7d0236e7",
   "metadata": {},
   "source": [
    "# Saving Model"
   ]
  },
  {
   "cell_type": "markdown",
   "id": "c33a7d6b-bda9-4a28-a513-afa7963cdbbf",
   "metadata": {},
   "source": [
    "### 1. Save using State_dict   (saves only imp parameters)"
   ]
  },
  {
   "cell_type": "code",
   "execution_count": 77,
   "id": "839b018f-5fc1-4521-b34a-645b17324b04",
   "metadata": {},
   "outputs": [],
   "source": [
    "torch.save(model.state_dict(), \"model.pth\")"
   ]
  },
  {
   "cell_type": "code",
   "execution_count": null,
   "id": "54d7e9f1-5c75-4840-8881-5737f1a89f7c",
   "metadata": {},
   "outputs": [],
   "source": [
    "# Rebuild the model architecture\n",
    "model = YourModelClass(*args, **kwargs)  # Provide necessary arguments for model initialization\n",
    "\n",
    "# Load the model state dictionary\n",
    "model.load_state_dict(torch.load(\"model_state_dict.pt\"))"
   ]
  },
  {
   "cell_type": "markdown",
   "id": "21fc0127-04fd-4b40-ac9d-9b338825bc2d",
   "metadata": {},
   "source": [
    "### 2. Save whole model"
   ]
  },
  {
   "cell_type": "code",
   "execution_count": null,
   "id": "97c37c16-b53e-4447-af14-796d2bf388f8",
   "metadata": {},
   "outputs": [],
   "source": [
    "torch.save(model, \"model.pt\")"
   ]
  },
  {
   "cell_type": "markdown",
   "id": "2ba08c00-ca46-4c26-9314-397a329f2f07",
   "metadata": {},
   "source": [
    "### 3. Load Model"
   ]
  },
  {
   "cell_type": "code",
   "execution_count": null,
   "id": "47d4573e-1889-44bf-9c7d-8fefe13afa8d",
   "metadata": {},
   "outputs": [],
   "source": [
    "model = torch.load(\"model.pt\")"
   ]
  },
  {
   "cell_type": "code",
   "execution_count": null,
   "id": "3fc4f234-3f26-4eac-a2a7-59df88c65fc6",
   "metadata": {},
   "outputs": [],
   "source": []
  },
  {
   "cell_type": "code",
   "execution_count": null,
   "id": "147f35c1-83c4-41bb-8312-06f8977197f8",
   "metadata": {},
   "outputs": [],
   "source": []
  },
  {
   "cell_type": "raw",
   "id": "5f737eb4-76d6-424d-8154-c3b83fdac00f",
   "metadata": {},
   "source": [
    "If you want to save the entire model, including its architecture and trained parameters, you can use `torch.save()` method. Here's how you can do it:\n",
    "\n",
    "# Assuming `model` is your trained model instance\n",
    "torch.save(model, \"model.pt\")\n",
    "```\n",
    "\n",
    "This will save the entire model to the file \"model.pt\" in the current directory.\n",
    "\n",
    "However, please note that saving the entire model in this way may not be the most efficient approach, especially if you plan to deploy or share the model with others. It's usually recommended to save only the model state dictionary containing parameters, and then rebuild the model architecture separately when loading the model. This approach is more flexible and can be more memory-efficient.\n",
    "\n",
    "Here's how you can save only the model state dictionary:\n",
    "\n",
    "```python\n",
    "# Save only the model state dictionary (parameters)\n",
    "torch.save(model.state_dict(), \"model_state_dict.pt\")\n",
    "```\n",
    "\n",
    "You can later load the model by rebuilding the architecture and loading the saved state dictionary:\n",
    "\n",
    "```python\n",
    "# Rebuild the model architecture\n",
    "model = YourModelClass(*args, **kwargs)  # Provide necessary arguments for model initialization\n",
    "\n",
    "# Load the model state dictionary\n",
    "model.load_state_dict(torch.load(\"model_state_dict.pt\"))\n",
    "```\n",
    "\n",
    "This approach is recommended, especially if you plan to deploy the model in production or share it with others."
   ]
  },
  {
   "cell_type": "code",
   "execution_count": null,
   "id": "1c500e2a-73d6-4368-bf7e-64d66f41f046",
   "metadata": {},
   "outputs": [],
   "source": []
  }
 ],
 "metadata": {
  "kernelspec": {
   "display_name": "Python 3 (ipykernel)",
   "language": "python",
   "name": "python3"
  },
  "language_info": {
   "codemirror_mode": {
    "name": "ipython",
    "version": 3
   },
   "file_extension": ".py",
   "mimetype": "text/x-python",
   "name": "python",
   "nbconvert_exporter": "python",
   "pygments_lexer": "ipython3",
   "version": "3.11.7"
  }
 },
 "nbformat": 4,
 "nbformat_minor": 5
}
